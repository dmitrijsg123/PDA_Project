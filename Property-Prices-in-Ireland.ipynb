{
 "cells": [
  {
   "cell_type": "markdown",
   "metadata": {},
   "source": [
    "### Programming for Data Analysis - Project\n",
    "\n",
    "#### By Dmitrijs Gavilovskis\n",
    "\n",
    "Create a data set by simulating a real-world phenomenon of your choosing.\n",
    "\n",
    "#### Tasks:\n",
    "\n",
    "Choose a real-world phenomenon that can be measured and collect at least one-hundred data points across at least four different variables.\n",
    "\n",
    "Investigate the types of variables involved, their likely distributions, and their relationships with each other.\n",
    "\n",
    "Synthesise/simulate a data set as closely matching their properties as possible.\n",
    "\n",
    "Detail the research and implement the simulation in a Jupyter notebook.\n"
   ]
  },
  {
   "cell_type": "markdown",
   "metadata": {},
   "source": [
    "### 1. Chosen Real Life Phenomenon"
   ]
  },
  {
   "cell_type": "markdown",
   "metadata": {},
   "source": [
    "The data that we are going to analyze are <b>property prices in Ireland</b> as per week starting Monday November 23rd 2020.\n",
    "I have manually collected the following data from the website www.daft.ie - 100 random data points accross 4 cities containing 2 variables - <i>property type</i> and <i>number of bedrooms</i>. \n",
    "I would like to investigate the question so as to be able to simulate a dataset that would link <i>property type</i>, <i>number of bedrooms</i> and <i>location<i> and correlate these values to the <i>property price</i>.\n"
   ]
  },
  {
   "cell_type": "markdown",
   "metadata": {},
   "source": [
    "##### Location\n",
    "Data set contains data for 4 cities - Dublin, Limerick, Galway and Cork. As the cities vary in size, I have taken different amount of data for each city.\n",
    "\n",
    "City   &emsp;&emsp; &emsp;&emsp;        Population     &emsp;&emsp;        Data points  <br>\n",
    "Dublin        &emsp;&emsp; &emsp;&emsp; 1,024K&emsp;&emsp; 41 <br>  \n",
    "Cork        &emsp;&emsp;  &emsp;&emsp;    190K  &emsp;&emsp;25 <br>   \n",
    "Limerick      &emsp;&emsp; &emsp;&emsp;    90K   &emsp;&emsp; 16 <br>  \n",
    "Galway       &emsp;&emsp;    &emsp;&emsp;  71K   &emsp;&emsp; 18 <br>  \n",
    "\n",
    "\n",
    "Reference: \"Population of cities in Ireland\"    https://worldpopulationreview.com/countries/cities/ireland"
   ]
  },
  {
   "cell_type": "code",
   "execution_count": 2,
   "metadata": {},
   "outputs": [],
   "source": [
    "import numpy as np\n",
    "import pandas as pd\n",
    "import matplotlib.pyplot as plt\n",
    "import seaborn as sns\n",
    "%matplotlib inline"
   ]
  },
  {
   "cell_type": "code",
   "execution_count": 3,
   "metadata": {},
   "outputs": [],
   "source": [
    "df = pd.read_csv(\"Ireland_prices.csv\")"
   ]
  },
  {
   "cell_type": "code",
   "execution_count": 4,
   "metadata": {},
   "outputs": [
    {
     "data": {
      "text/html": [
       "<div>\n",
       "<style scoped>\n",
       "    .dataframe tbody tr th:only-of-type {\n",
       "        vertical-align: middle;\n",
       "    }\n",
       "\n",
       "    .dataframe tbody tr th {\n",
       "        vertical-align: top;\n",
       "    }\n",
       "\n",
       "    .dataframe thead th {\n",
       "        text-align: right;\n",
       "    }\n",
       "</style>\n",
       "<table border=\"1\" class=\"dataframe\">\n",
       "  <thead>\n",
       "    <tr style=\"text-align: right;\">\n",
       "      <th></th>\n",
       "      <th>Property type</th>\n",
       "      <th>Location</th>\n",
       "      <th>Bedrooms</th>\n",
       "    </tr>\n",
       "  </thead>\n",
       "  <tbody>\n",
       "    <tr>\n",
       "      <th>0</th>\n",
       "      <td>a</td>\n",
       "      <td>Limerick</td>\n",
       "      <td>2</td>\n",
       "    </tr>\n",
       "    <tr>\n",
       "      <th>1</th>\n",
       "      <td>d</td>\n",
       "      <td>Limerick</td>\n",
       "      <td>4</td>\n",
       "    </tr>\n",
       "    <tr>\n",
       "      <th>2</th>\n",
       "      <td>t</td>\n",
       "      <td>Limerick</td>\n",
       "      <td>4</td>\n",
       "    </tr>\n",
       "    <tr>\n",
       "      <th>3</th>\n",
       "      <td>d</td>\n",
       "      <td>Limerick</td>\n",
       "      <td>4</td>\n",
       "    </tr>\n",
       "    <tr>\n",
       "      <th>4</th>\n",
       "      <td>dp</td>\n",
       "      <td>Limerick</td>\n",
       "      <td>3</td>\n",
       "    </tr>\n",
       "    <tr>\n",
       "      <th>...</th>\n",
       "      <td>...</td>\n",
       "      <td>...</td>\n",
       "      <td>...</td>\n",
       "    </tr>\n",
       "    <tr>\n",
       "      <th>95</th>\n",
       "      <td>a</td>\n",
       "      <td>Cork</td>\n",
       "      <td>2</td>\n",
       "    </tr>\n",
       "    <tr>\n",
       "      <th>96</th>\n",
       "      <td>dp</td>\n",
       "      <td>Cork</td>\n",
       "      <td>3</td>\n",
       "    </tr>\n",
       "    <tr>\n",
       "      <th>97</th>\n",
       "      <td>a</td>\n",
       "      <td>Cork</td>\n",
       "      <td>2</td>\n",
       "    </tr>\n",
       "    <tr>\n",
       "      <th>98</th>\n",
       "      <td>sd</td>\n",
       "      <td>Cork</td>\n",
       "      <td>3</td>\n",
       "    </tr>\n",
       "    <tr>\n",
       "      <th>99</th>\n",
       "      <td>sd</td>\n",
       "      <td>Cork</td>\n",
       "      <td>3</td>\n",
       "    </tr>\n",
       "  </tbody>\n",
       "</table>\n",
       "<p>100 rows × 3 columns</p>\n",
       "</div>"
      ],
      "text/plain": [
       "   Property type  Location  Bedrooms\n",
       "0              a  Limerick         2\n",
       "1              d  Limerick         4\n",
       "2              t  Limerick         4\n",
       "3              d  Limerick         4\n",
       "4             dp  Limerick         3\n",
       "..           ...       ...       ...\n",
       "95             a      Cork         2\n",
       "96            dp      Cork         3\n",
       "97             a      Cork         2\n",
       "98            sd      Cork         3\n",
       "99            sd      Cork         3\n",
       "\n",
       "[100 rows x 3 columns]"
      ]
     },
     "execution_count": 4,
     "metadata": {},
     "output_type": "execute_result"
    }
   ],
   "source": [
    "df"
   ]
  },
  {
   "cell_type": "markdown",
   "metadata": {},
   "source": [
    "##### Let us make our data framer easier to understand"
   ]
  },
  {
   "cell_type": "code",
   "execution_count": 5,
   "metadata": {},
   "outputs": [],
   "source": [
    "df_new = df.replace({\"a\":\"apartment\",\"d\":\"detached\",\"t\":\"terraced\",\"dp\":\"duplex\",\"sd\":\"semi\",\"tn\":\"townhouse\"})"
   ]
  },
  {
   "cell_type": "code",
   "execution_count": 6,
   "metadata": {},
   "outputs": [
    {
     "data": {
      "text/html": [
       "<div>\n",
       "<style scoped>\n",
       "    .dataframe tbody tr th:only-of-type {\n",
       "        vertical-align: middle;\n",
       "    }\n",
       "\n",
       "    .dataframe tbody tr th {\n",
       "        vertical-align: top;\n",
       "    }\n",
       "\n",
       "    .dataframe thead th {\n",
       "        text-align: right;\n",
       "    }\n",
       "</style>\n",
       "<table border=\"1\" class=\"dataframe\">\n",
       "  <thead>\n",
       "    <tr style=\"text-align: right;\">\n",
       "      <th></th>\n",
       "      <th>Property type</th>\n",
       "      <th>Location</th>\n",
       "      <th>Bedrooms</th>\n",
       "    </tr>\n",
       "  </thead>\n",
       "  <tbody>\n",
       "    <tr>\n",
       "      <th>0</th>\n",
       "      <td>apartment</td>\n",
       "      <td>Limerick</td>\n",
       "      <td>2</td>\n",
       "    </tr>\n",
       "    <tr>\n",
       "      <th>1</th>\n",
       "      <td>detached</td>\n",
       "      <td>Limerick</td>\n",
       "      <td>4</td>\n",
       "    </tr>\n",
       "    <tr>\n",
       "      <th>2</th>\n",
       "      <td>terraced</td>\n",
       "      <td>Limerick</td>\n",
       "      <td>4</td>\n",
       "    </tr>\n",
       "    <tr>\n",
       "      <th>3</th>\n",
       "      <td>detached</td>\n",
       "      <td>Limerick</td>\n",
       "      <td>4</td>\n",
       "    </tr>\n",
       "    <tr>\n",
       "      <th>4</th>\n",
       "      <td>duplex</td>\n",
       "      <td>Limerick</td>\n",
       "      <td>3</td>\n",
       "    </tr>\n",
       "    <tr>\n",
       "      <th>...</th>\n",
       "      <td>...</td>\n",
       "      <td>...</td>\n",
       "      <td>...</td>\n",
       "    </tr>\n",
       "    <tr>\n",
       "      <th>95</th>\n",
       "      <td>apartment</td>\n",
       "      <td>Cork</td>\n",
       "      <td>2</td>\n",
       "    </tr>\n",
       "    <tr>\n",
       "      <th>96</th>\n",
       "      <td>duplex</td>\n",
       "      <td>Cork</td>\n",
       "      <td>3</td>\n",
       "    </tr>\n",
       "    <tr>\n",
       "      <th>97</th>\n",
       "      <td>apartment</td>\n",
       "      <td>Cork</td>\n",
       "      <td>2</td>\n",
       "    </tr>\n",
       "    <tr>\n",
       "      <th>98</th>\n",
       "      <td>semi</td>\n",
       "      <td>Cork</td>\n",
       "      <td>3</td>\n",
       "    </tr>\n",
       "    <tr>\n",
       "      <th>99</th>\n",
       "      <td>semi</td>\n",
       "      <td>Cork</td>\n",
       "      <td>3</td>\n",
       "    </tr>\n",
       "  </tbody>\n",
       "</table>\n",
       "<p>100 rows × 3 columns</p>\n",
       "</div>"
      ],
      "text/plain": [
       "   Property type  Location  Bedrooms\n",
       "0      apartment  Limerick         2\n",
       "1       detached  Limerick         4\n",
       "2       terraced  Limerick         4\n",
       "3       detached  Limerick         4\n",
       "4         duplex  Limerick         3\n",
       "..           ...       ...       ...\n",
       "95     apartment      Cork         2\n",
       "96        duplex      Cork         3\n",
       "97     apartment      Cork         2\n",
       "98          semi      Cork         3\n",
       "99          semi      Cork         3\n",
       "\n",
       "[100 rows x 3 columns]"
      ]
     },
     "execution_count": 6,
     "metadata": {},
     "output_type": "execute_result"
    }
   ],
   "source": [
    "df_new"
   ]
  },
  {
   "cell_type": "markdown",
   "metadata": {},
   "source": [
    "##### Distribution of number of bedrooms"
   ]
  },
  {
   "cell_type": "code",
   "execution_count": 7,
   "metadata": {},
   "outputs": [
    {
     "data": {
      "image/png": "[encoded data removed]",
      "text/plain": [
       "<Figure size 360x360 with 1 Axes>"
      ]
     },
     "metadata": {
      "needs_background": "light"
     },
     "output_type": "display_data"
    }
   ],
   "source": [
    "sns.catplot(x=\"Bedrooms\", kind=\"count\", palette=\"ch:.25\", data=df_new);\n",
    "\n",
    "# Reference: https://seaborn.pydata.org/tutorial/categorical.html"
   ]
  },
  {
   "cell_type": "markdown",
   "metadata": {},
   "source": [
    "##### Distribution Property type"
   ]
  },
  {
   "cell_type": "code",
   "execution_count": 8,
   "metadata": {},
   "outputs": [
    {
     "data": {
      "image/png": "[encoded data removed]",
      "text/plain": [
       "<Figure size 360x360 with 1 Axes>"
      ]
     },
     "metadata": {
      "needs_background": "light"
     },
     "output_type": "display_data"
    }
   ],
   "source": [
    "sns.catplot(x=\"Property type\", kind=\"count\", palette=\"ch:.25\", data=df_new);"
   ]
  },
  {
   "cell_type": "markdown",
   "metadata": {},
   "source": [
    "##### Distribution Location"
   ]
  },
  {
   "cell_type": "code",
   "execution_count": 9,
   "metadata": {},
   "outputs": [
    {
     "data": {
      "image/png": "[encoded data removed]",
      "text/plain": [
       "<Figure size 360x360 with 1 Axes>"
      ]
     },
     "metadata": {
      "needs_background": "light"
     },
     "output_type": "display_data"
    }
   ],
   "source": [
    "sns.catplot(x=\"Location\", kind=\"count\", palette=\"ch:.25\", data=df_new);"
   ]
  },
  {
   "cell_type": "code",
   "execution_count": null,
   "metadata": {},
   "outputs": [],
   "source": []
  },
  {
   "cell_type": "markdown",
   "metadata": {},
   "source": [
    "Let us look at data for each city separately"
   ]
  },
  {
   "cell_type": "markdown",
   "metadata": {},
   "source": [
    "## Limerick \n",
    "\n",
    "*****"
   ]
  },
  {
   "cell_type": "code",
   "execution_count": 10,
   "metadata": {},
   "outputs": [],
   "source": [
    "Limk = df_new.loc[(df_new['Location'] == \"Limerick\")] "
   ]
  },
  {
   "cell_type": "code",
   "execution_count": 11,
   "metadata": {},
   "outputs": [
    {
     "data": {
      "text/html": [
       "<div>\n",
       "<style scoped>\n",
       "    .dataframe tbody tr th:only-of-type {\n",
       "        vertical-align: middle;\n",
       "    }\n",
       "\n",
       "    .dataframe tbody tr th {\n",
       "        vertical-align: top;\n",
       "    }\n",
       "\n",
       "    .dataframe thead th {\n",
       "        text-align: right;\n",
       "    }\n",
       "</style>\n",
       "<table border=\"1\" class=\"dataframe\">\n",
       "  <thead>\n",
       "    <tr style=\"text-align: right;\">\n",
       "      <th></th>\n",
       "      <th>Property type</th>\n",
       "      <th>Location</th>\n",
       "      <th>Bedrooms</th>\n",
       "    </tr>\n",
       "  </thead>\n",
       "  <tbody>\n",
       "    <tr>\n",
       "      <th>0</th>\n",
       "      <td>apartment</td>\n",
       "      <td>Limerick</td>\n",
       "      <td>2</td>\n",
       "    </tr>\n",
       "    <tr>\n",
       "      <th>1</th>\n",
       "      <td>detached</td>\n",
       "      <td>Limerick</td>\n",
       "      <td>4</td>\n",
       "    </tr>\n",
       "    <tr>\n",
       "      <th>2</th>\n",
       "      <td>terraced</td>\n",
       "      <td>Limerick</td>\n",
       "      <td>4</td>\n",
       "    </tr>\n",
       "    <tr>\n",
       "      <th>3</th>\n",
       "      <td>detached</td>\n",
       "      <td>Limerick</td>\n",
       "      <td>4</td>\n",
       "    </tr>\n",
       "    <tr>\n",
       "      <th>4</th>\n",
       "      <td>duplex</td>\n",
       "      <td>Limerick</td>\n",
       "      <td>3</td>\n",
       "    </tr>\n",
       "    <tr>\n",
       "      <th>5</th>\n",
       "      <td>terraced</td>\n",
       "      <td>Limerick</td>\n",
       "      <td>3</td>\n",
       "    </tr>\n",
       "    <tr>\n",
       "      <th>6</th>\n",
       "      <td>detached</td>\n",
       "      <td>Limerick</td>\n",
       "      <td>3</td>\n",
       "    </tr>\n",
       "    <tr>\n",
       "      <th>7</th>\n",
       "      <td>detached</td>\n",
       "      <td>Limerick</td>\n",
       "      <td>4</td>\n",
       "    </tr>\n",
       "    <tr>\n",
       "      <th>8</th>\n",
       "      <td>apartment</td>\n",
       "      <td>Limerick</td>\n",
       "      <td>2</td>\n",
       "    </tr>\n",
       "    <tr>\n",
       "      <th>9</th>\n",
       "      <td>apartment</td>\n",
       "      <td>Limerick</td>\n",
       "      <td>2</td>\n",
       "    </tr>\n",
       "    <tr>\n",
       "      <th>10</th>\n",
       "      <td>apartment</td>\n",
       "      <td>Limerick</td>\n",
       "      <td>3</td>\n",
       "    </tr>\n",
       "    <tr>\n",
       "      <th>11</th>\n",
       "      <td>detached</td>\n",
       "      <td>Limerick</td>\n",
       "      <td>3</td>\n",
       "    </tr>\n",
       "    <tr>\n",
       "      <th>12</th>\n",
       "      <td>semi</td>\n",
       "      <td>Limerick</td>\n",
       "      <td>3</td>\n",
       "    </tr>\n",
       "    <tr>\n",
       "      <th>13</th>\n",
       "      <td>semi</td>\n",
       "      <td>Limerick</td>\n",
       "      <td>4</td>\n",
       "    </tr>\n",
       "    <tr>\n",
       "      <th>14</th>\n",
       "      <td>semi</td>\n",
       "      <td>Limerick</td>\n",
       "      <td>4</td>\n",
       "    </tr>\n",
       "    <tr>\n",
       "      <th>15</th>\n",
       "      <td>semi</td>\n",
       "      <td>Limerick</td>\n",
       "      <td>4</td>\n",
       "    </tr>\n",
       "  </tbody>\n",
       "</table>\n",
       "</div>"
      ],
      "text/plain": [
       "   Property type  Location  Bedrooms\n",
       "0      apartment  Limerick         2\n",
       "1       detached  Limerick         4\n",
       "2       terraced  Limerick         4\n",
       "3       detached  Limerick         4\n",
       "4         duplex  Limerick         3\n",
       "5       terraced  Limerick         3\n",
       "6       detached  Limerick         3\n",
       "7       detached  Limerick         4\n",
       "8      apartment  Limerick         2\n",
       "9      apartment  Limerick         2\n",
       "10     apartment  Limerick         3\n",
       "11      detached  Limerick         3\n",
       "12          semi  Limerick         3\n",
       "13          semi  Limerick         4\n",
       "14          semi  Limerick         4\n",
       "15          semi  Limerick         4"
      ]
     },
     "execution_count": 11,
     "metadata": {},
     "output_type": "execute_result"
    }
   ],
   "source": [
    "Limk"
   ]
  },
  {
   "cell_type": "code",
   "execution_count": 12,
   "metadata": {},
   "outputs": [
    {
     "data": {
      "text/plain": [
       "count    16.0\n",
       "mean      3.0\n",
       "std       1.0\n",
       "min       2.0\n",
       "25%       3.0\n",
       "50%       3.0\n",
       "75%       4.0\n",
       "max       4.0\n",
       "Name: Bedrooms, dtype: float64"
      ]
     },
     "execution_count": 12,
     "metadata": {},
     "output_type": "execute_result"
    }
   ],
   "source": [
    "# Applying descriptive stats to look into the data in more details\n",
    "Limk[\"Bedrooms\"].describe().round(0)"
   ]
  },
  {
   "cell_type": "markdown",
   "metadata": {},
   "source": [
    "Calculating probability of occurence by \"Bedrooms\" value"
   ]
  },
  {
   "cell_type": "code",
   "execution_count": 13,
   "metadata": {},
   "outputs": [],
   "source": [
    "bedrooms_prob = Limk.groupby('Bedrooms').size().div(len(Limk)).round(2)\n",
    "\n",
    "# Reference: https://stackoverflow.com/questions/37818063/how-to-calculate-conditional-probability-of-values-in-dataframe-pandas-python"
   ]
  },
  {
   "cell_type": "code",
   "execution_count": 14,
   "metadata": {},
   "outputs": [
    {
     "data": {
      "text/plain": [
       "Bedrooms\n",
       "2    0.19\n",
       "3    0.38\n",
       "4    0.44\n",
       "dtype: float64"
      ]
     },
     "execution_count": 14,
     "metadata": {},
     "output_type": "execute_result"
    }
   ],
   "source": [
    "bedrooms_prob"
   ]
  },
  {
   "cell_type": "markdown",
   "metadata": {},
   "source": [
    "Plotting \"Bedrooms\" value over 100 data points, taking into account probability"
   ]
  },
  {
   "cell_type": "code",
   "execution_count": 15,
   "metadata": {},
   "outputs": [],
   "source": [
    "Property_type = [2,3,4]\n",
    "limk_bedrooms100 = np.random.choice(Property_type, 100, p=[0.19, 0.37, 0.44])\n",
    "\n",
    "# Reference: https://stackoverflow.com/questions/57435469/how-to-generate-random-categorical-data-in-python-according-to-a-probability-dis\n",
    "# https://docs.scipy.org/doc/numpy-1.15.0/reference/generated/numpy.random.choice.html#numpy.random.choice"
   ]
  },
  {
   "cell_type": "code",
   "execution_count": 16,
   "metadata": {},
   "outputs": [
    {
     "data": {
      "text/plain": [
       "array([4, 3, 3, 4, 2, 4, 2, 4, 4, 4, 4, 3, 3, 4, 4, 4, 3, 2, 3, 3, 4, 2,\n",
       "       3, 4, 4, 4, 4, 4, 3, 4, 4, 3, 3, 4, 3, 3, 4, 4, 2, 4, 4, 3, 3, 3,\n",
       "       4, 3, 2, 4, 3, 4, 3, 4, 3, 2, 3, 4, 4, 3, 4, 3, 3, 2, 3, 3, 4, 3,\n",
       "       4, 4, 3, 4, 4, 4, 3, 2, 4, 4, 3, 4, 2, 3, 3, 3, 2, 2, 3, 3, 4, 4,\n",
       "       4, 3, 3, 3, 4, 3, 4, 3, 4, 3, 4, 3])"
      ]
     },
     "execution_count": 16,
     "metadata": {},
     "output_type": "execute_result"
    }
   ],
   "source": [
    "limk_bedrooms100"
   ]
  },
  {
   "cell_type": "code",
   "execution_count": 17,
   "metadata": {},
   "outputs": [
    {
     "data": {
      "image/png": "[encoded data removed]",
      "text/plain": [
       "<Figure size 432x288 with 1 Axes>"
      ]
     },
     "metadata": {
      "needs_background": "light"
     },
     "output_type": "display_data"
    }
   ],
   "source": [
    "# Plotting a histogram\n",
    "plt.hist(limk_bedrooms100);"
   ]
  },
  {
   "cell_type": "code",
   "execution_count": 18,
   "metadata": {},
   "outputs": [
    {
     "data": {
      "text/plain": [
       "count           16\n",
       "unique           5\n",
       "top       detached\n",
       "freq             5\n",
       "Name: Property type, dtype: object"
      ]
     },
     "execution_count": 18,
     "metadata": {},
     "output_type": "execute_result"
    }
   ],
   "source": [
    "# Applying descriptive stats to look into the data in more details\n",
    "Limk[\"Property type\"].describe()"
   ]
  },
  {
   "cell_type": "markdown",
   "metadata": {},
   "source": [
    "###### Calculating probability of \"Property type\" value"
   ]
  },
  {
   "cell_type": "code",
   "execution_count": 19,
   "metadata": {},
   "outputs": [],
   "source": [
    "property_prob = Limk.groupby('Property type').size().div(len(Limk)).round(2)\n",
    "\n",
    "# Reference: https://stackoverflow.com/questions/37818063/how-to-calculate-conditional-probability-of-values-in-dataframe-pandas-python"
   ]
  },
  {
   "cell_type": "code",
   "execution_count": 20,
   "metadata": {},
   "outputs": [
    {
     "data": {
      "text/plain": [
       "Property type\n",
       "apartment    0.25\n",
       "detached     0.31\n",
       "duplex       0.06\n",
       "semi         0.25\n",
       "terraced     0.12\n",
       "dtype: float64"
      ]
     },
     "execution_count": 20,
     "metadata": {},
     "output_type": "execute_result"
    }
   ],
   "source": [
    "property_prob"
   ]
  },
  {
   "cell_type": "markdown",
   "metadata": {},
   "source": [
    "Plotting \"Property type\" value over 100 data points, taking into account probability"
   ]
  },
  {
   "cell_type": "code",
   "execution_count": 21,
   "metadata": {},
   "outputs": [],
   "source": [
    "Property_type = ['apartment', 'detached', 'duplex', 'semi','terraced']\n",
    "Limk_property100 = np.random.choice(Property_type, 100, p=[0.25, 0.32, 0.06, 0.25,0.12])\n",
    "\n",
    "# Reference: https://stackoverflow.com/questions/57435469/how-to-generate-random-categorical-data-in-python-according-to-a-probability-dis\n",
    "# https://docs.scipy.org/doc/numpy-1.15.0/reference/generated/numpy.random.choice.html#numpy.random.choice"
   ]
  },
  {
   "cell_type": "code",
   "execution_count": 22,
   "metadata": {},
   "outputs": [
    {
     "data": {
      "text/plain": [
       "array(['apartment', 'detached', 'terraced', 'semi', 'detached',\n",
       "       'apartment', 'apartment', 'detached', 'apartment', 'semi',\n",
       "       'duplex', 'apartment', 'semi', 'terraced', 'apartment', 'detached',\n",
       "       'apartment', 'terraced', 'semi', 'terraced', 'semi', 'detached',\n",
       "       'detached', 'apartment', 'apartment', 'apartment', 'semi',\n",
       "       'detached', 'detached', 'apartment', 'detached', 'apartment',\n",
       "       'semi', 'apartment', 'detached', 'terraced', 'semi', 'semi',\n",
       "       'detached', 'terraced', 'terraced', 'apartment', 'semi',\n",
       "       'apartment', 'detached', 'semi', 'detached', 'duplex', 'detached',\n",
       "       'apartment', 'semi', 'detached', 'detached', 'apartment',\n",
       "       'detached', 'terraced', 'terraced', 'apartment', 'detached',\n",
       "       'terraced', 'semi', 'apartment', 'semi', 'terraced', 'semi',\n",
       "       'apartment', 'semi', 'detached', 'detached', 'semi', 'apartment',\n",
       "       'detached', 'semi', 'apartment', 'semi', 'detached', 'apartment',\n",
       "       'detached', 'detached', 'apartment', 'detached', 'apartment',\n",
       "       'terraced', 'duplex', 'detached', 'detached', 'apartment',\n",
       "       'terraced', 'semi', 'terraced', 'detached', 'semi', 'apartment',\n",
       "       'detached', 'detached', 'semi', 'apartment', 'apartment',\n",
       "       'terraced', 'terraced'], dtype='<U9')"
      ]
     },
     "execution_count": 22,
     "metadata": {},
     "output_type": "execute_result"
    }
   ],
   "source": [
    "Limk_property100"
   ]
  },
  {
   "cell_type": "code",
   "execution_count": 23,
   "metadata": {},
   "outputs": [
    {
     "data": {
      "text/html": [
       "<div>\n",
       "<style scoped>\n",
       "    .dataframe tbody tr th:only-of-type {\n",
       "        vertical-align: middle;\n",
       "    }\n",
       "\n",
       "    .dataframe tbody tr th {\n",
       "        vertical-align: top;\n",
       "    }\n",
       "\n",
       "    .dataframe thead th {\n",
       "        text-align: right;\n",
       "    }\n",
       "</style>\n",
       "<table border=\"1\" class=\"dataframe\">\n",
       "  <thead>\n",
       "    <tr style=\"text-align: right;\">\n",
       "      <th></th>\n",
       "      <th>Property type</th>\n",
       "      <th>Location</th>\n",
       "      <th>Bedrooms</th>\n",
       "    </tr>\n",
       "  </thead>\n",
       "  <tbody>\n",
       "    <tr>\n",
       "      <th>0</th>\n",
       "      <td>apartment</td>\n",
       "      <td>Limerick</td>\n",
       "      <td>4</td>\n",
       "    </tr>\n",
       "    <tr>\n",
       "      <th>1</th>\n",
       "      <td>detached</td>\n",
       "      <td>Limerick</td>\n",
       "      <td>3</td>\n",
       "    </tr>\n",
       "    <tr>\n",
       "      <th>2</th>\n",
       "      <td>terraced</td>\n",
       "      <td>Limerick</td>\n",
       "      <td>3</td>\n",
       "    </tr>\n",
       "    <tr>\n",
       "      <th>3</th>\n",
       "      <td>semi</td>\n",
       "      <td>Limerick</td>\n",
       "      <td>4</td>\n",
       "    </tr>\n",
       "    <tr>\n",
       "      <th>4</th>\n",
       "      <td>detached</td>\n",
       "      <td>Limerick</td>\n",
       "      <td>2</td>\n",
       "    </tr>\n",
       "    <tr>\n",
       "      <th>...</th>\n",
       "      <td>...</td>\n",
       "      <td>...</td>\n",
       "      <td>...</td>\n",
       "    </tr>\n",
       "    <tr>\n",
       "      <th>95</th>\n",
       "      <td>semi</td>\n",
       "      <td>Limerick</td>\n",
       "      <td>3</td>\n",
       "    </tr>\n",
       "    <tr>\n",
       "      <th>96</th>\n",
       "      <td>apartment</td>\n",
       "      <td>Limerick</td>\n",
       "      <td>4</td>\n",
       "    </tr>\n",
       "    <tr>\n",
       "      <th>97</th>\n",
       "      <td>apartment</td>\n",
       "      <td>Limerick</td>\n",
       "      <td>3</td>\n",
       "    </tr>\n",
       "    <tr>\n",
       "      <th>98</th>\n",
       "      <td>terraced</td>\n",
       "      <td>Limerick</td>\n",
       "      <td>4</td>\n",
       "    </tr>\n",
       "    <tr>\n",
       "      <th>99</th>\n",
       "      <td>terraced</td>\n",
       "      <td>Limerick</td>\n",
       "      <td>3</td>\n",
       "    </tr>\n",
       "  </tbody>\n",
       "</table>\n",
       "<p>100 rows × 3 columns</p>\n",
       "</div>"
      ],
      "text/plain": [
       "   Property type  Location  Bedrooms\n",
       "0      apartment  Limerick         4\n",
       "1       detached  Limerick         3\n",
       "2       terraced  Limerick         3\n",
       "3           semi  Limerick         4\n",
       "4       detached  Limerick         2\n",
       "..           ...       ...       ...\n",
       "95          semi  Limerick         3\n",
       "96     apartment  Limerick         4\n",
       "97     apartment  Limerick         3\n",
       "98      terraced  Limerick         4\n",
       "99      terraced  Limerick         3\n",
       "\n",
       "[100 rows x 3 columns]"
      ]
     },
     "execution_count": 23,
     "metadata": {},
     "output_type": "execute_result"
    }
   ],
   "source": [
    "# Creating a data set with that information\n",
    "\n",
    "np.random.seed(12) # Seed reset - the numbers will stay the same at re-run\n",
    "\n",
    "NewDF = pd.DataFrame({'Property type':Limk_property100, 'Location':'Limerick', 'Bedrooms':limk_bedrooms100})\n",
    "NewDF # Print new data frame\n"
   ]
  },
  {
   "cell_type": "markdown",
   "metadata": {},
   "source": [
    "Lower end price for an apartment in Limerick is about 130,000 euros.\n",
    "Average price for a 3 bedroom house in Limerick is about 205,000 euros.\n",
    "Higher end price for a house in Limerick is about 550,000 euros.\n",
    "\n",
    "https://www.limerickpost.ie/2020/06/29/average-limerick-city-house-prices-rise-2-5-in-past-year/\n",
    "\n",
    "https://www.limerickpost.ie/2020/06/29/average-limerick-city-house-prices-rise-2-5-in-past-year/"
   ]
  },
  {
   "cell_type": "markdown",
   "metadata": {},
   "source": [
    "Let us draw 100 samples from a triangular distribution. The triangular distribution is a continuous probability distribution with lower limit left, peak at mode, and upper limit right."
   ]
  },
  {
   "cell_type": "code",
   "execution_count": 24,
   "metadata": {},
   "outputs": [],
   "source": [
    "np.random.seed(35) # Using seed option so that the numbers are the same \n",
    "limkprice = np.random.triangular(130000,205000,550000,100).round(0)\n",
    "\n",
    "# Reference: https://numpy.org/doc/stable/reference/random/generated/numpy.random.triangular.html"
   ]
  },
  {
   "cell_type": "code",
   "execution_count": 25,
   "metadata": {},
   "outputs": [
    {
     "data": {
      "text/plain": [
       "array([269772., 233424., 216297., 226424., 387265., 189223., 317343.,\n",
       "       226282., 335401., 334322., 378374., 167984., 437463., 212482.,\n",
       "       232348., 510192., 206539., 509580., 359703., 214327., 198257.,\n",
       "       285119., 253737., 176917., 240337., 148646., 366465., 415268.,\n",
       "       290034., 181566., 390456., 282071., 419029., 204044., 255872.,\n",
       "       394036., 494396., 315089., 412710., 220094., 322570., 231622.,\n",
       "       219323., 293522., 191420., 241479., 319015., 393769., 244379.,\n",
       "       217150., 380633., 310371., 279126., 451507., 325803., 334281.,\n",
       "       234183., 191518., 199856., 365907., 284221., 270691., 360688.,\n",
       "       465829., 195678., 464192., 190314., 512460., 265176., 196916.,\n",
       "       332256., 223735., 301398., 189823., 407373., 139855., 290289.,\n",
       "       269129., 269749., 343001., 165770., 214146., 242357., 472489.,\n",
       "       273702., 315581., 249302., 247363., 294445., 288247., 405627.,\n",
       "       356871., 300568., 324398., 151485., 177813., 303187., 427820.,\n",
       "       237570., 228611.])"
      ]
     },
     "execution_count": 25,
     "metadata": {},
     "output_type": "execute_result"
    }
   ],
   "source": [
    "limkprice"
   ]
  },
  {
   "cell_type": "markdown",
   "metadata": {},
   "source": [
    "Converting array into dataset"
   ]
  },
  {
   "cell_type": "code",
   "execution_count": 26,
   "metadata": {},
   "outputs": [],
   "source": [
    "Price = pd.DataFrame(limkprice)"
   ]
  },
  {
   "cell_type": "code",
   "execution_count": 33,
   "metadata": {},
   "outputs": [
    {
     "data": {
      "text/html": [
       "<div>\n",
       "<style scoped>\n",
       "    .dataframe tbody tr th:only-of-type {\n",
       "        vertical-align: middle;\n",
       "    }\n",
       "\n",
       "    .dataframe tbody tr th {\n",
       "        vertical-align: top;\n",
       "    }\n",
       "\n",
       "    .dataframe thead th {\n",
       "        text-align: right;\n",
       "    }\n",
       "</style>\n",
       "<table border=\"1\" class=\"dataframe\">\n",
       "  <thead>\n",
       "    <tr style=\"text-align: right;\">\n",
       "      <th></th>\n",
       "      <th>0</th>\n",
       "    </tr>\n",
       "  </thead>\n",
       "  <tbody>\n",
       "    <tr>\n",
       "      <th>0</th>\n",
       "      <td>269772.0</td>\n",
       "    </tr>\n",
       "    <tr>\n",
       "      <th>1</th>\n",
       "      <td>233424.0</td>\n",
       "    </tr>\n",
       "    <tr>\n",
       "      <th>2</th>\n",
       "      <td>216297.0</td>\n",
       "    </tr>\n",
       "    <tr>\n",
       "      <th>3</th>\n",
       "      <td>226424.0</td>\n",
       "    </tr>\n",
       "    <tr>\n",
       "      <th>4</th>\n",
       "      <td>387265.0</td>\n",
       "    </tr>\n",
       "    <tr>\n",
       "      <th>...</th>\n",
       "      <td>...</td>\n",
       "    </tr>\n",
       "    <tr>\n",
       "      <th>95</th>\n",
       "      <td>177813.0</td>\n",
       "    </tr>\n",
       "    <tr>\n",
       "      <th>96</th>\n",
       "      <td>303187.0</td>\n",
       "    </tr>\n",
       "    <tr>\n",
       "      <th>97</th>\n",
       "      <td>427820.0</td>\n",
       "    </tr>\n",
       "    <tr>\n",
       "      <th>98</th>\n",
       "      <td>237570.0</td>\n",
       "    </tr>\n",
       "    <tr>\n",
       "      <th>99</th>\n",
       "      <td>228611.0</td>\n",
       "    </tr>\n",
       "  </tbody>\n",
       "</table>\n",
       "<p>100 rows × 1 columns</p>\n",
       "</div>"
      ],
      "text/plain": [
       "           0\n",
       "0   269772.0\n",
       "1   233424.0\n",
       "2   216297.0\n",
       "3   226424.0\n",
       "4   387265.0\n",
       "..       ...\n",
       "95  177813.0\n",
       "96  303187.0\n",
       "97  427820.0\n",
       "98  237570.0\n",
       "99  228611.0\n",
       "\n",
       "[100 rows x 1 columns]"
      ]
     },
     "execution_count": 33,
     "metadata": {},
     "output_type": "execute_result"
    }
   ],
   "source": [
    "Price"
   ]
  },
  {
   "cell_type": "markdown",
   "metadata": {},
   "source": [
    "###### Combining all data for Limerick together"
   ]
  },
  {
   "cell_type": "code",
   "execution_count": 40,
   "metadata": {},
   "outputs": [],
   "source": [
    "LimerickDF = NewDF.join(Price)\n",
    "\n",
    "# Reference:  https://pandas.pydata.org/pandas-docs/stable/reference/api/pandas.DataFrame.join.html"
   ]
  },
  {
   "cell_type": "code",
   "execution_count": 41,
   "metadata": {},
   "outputs": [
    {
     "data": {
      "text/html": [
       "<div>\n",
       "<style scoped>\n",
       "    .dataframe tbody tr th:only-of-type {\n",
       "        vertical-align: middle;\n",
       "    }\n",
       "\n",
       "    .dataframe tbody tr th {\n",
       "        vertical-align: top;\n",
       "    }\n",
       "\n",
       "    .dataframe thead th {\n",
       "        text-align: right;\n",
       "    }\n",
       "</style>\n",
       "<table border=\"1\" class=\"dataframe\">\n",
       "  <thead>\n",
       "    <tr style=\"text-align: right;\">\n",
       "      <th></th>\n",
       "      <th>Property type</th>\n",
       "      <th>Location</th>\n",
       "      <th>Bedrooms</th>\n",
       "      <th>0</th>\n",
       "    </tr>\n",
       "  </thead>\n",
       "  <tbody>\n",
       "    <tr>\n",
       "      <th>0</th>\n",
       "      <td>apartment</td>\n",
       "      <td>Limerick</td>\n",
       "      <td>4</td>\n",
       "      <td>269772.0</td>\n",
       "    </tr>\n",
       "    <tr>\n",
       "      <th>1</th>\n",
       "      <td>detached</td>\n",
       "      <td>Limerick</td>\n",
       "      <td>3</td>\n",
       "      <td>233424.0</td>\n",
       "    </tr>\n",
       "    <tr>\n",
       "      <th>2</th>\n",
       "      <td>terraced</td>\n",
       "      <td>Limerick</td>\n",
       "      <td>3</td>\n",
       "      <td>216297.0</td>\n",
       "    </tr>\n",
       "    <tr>\n",
       "      <th>3</th>\n",
       "      <td>semi</td>\n",
       "      <td>Limerick</td>\n",
       "      <td>4</td>\n",
       "      <td>226424.0</td>\n",
       "    </tr>\n",
       "    <tr>\n",
       "      <th>4</th>\n",
       "      <td>detached</td>\n",
       "      <td>Limerick</td>\n",
       "      <td>2</td>\n",
       "      <td>387265.0</td>\n",
       "    </tr>\n",
       "    <tr>\n",
       "      <th>...</th>\n",
       "      <td>...</td>\n",
       "      <td>...</td>\n",
       "      <td>...</td>\n",
       "      <td>...</td>\n",
       "    </tr>\n",
       "    <tr>\n",
       "      <th>95</th>\n",
       "      <td>semi</td>\n",
       "      <td>Limerick</td>\n",
       "      <td>3</td>\n",
       "      <td>177813.0</td>\n",
       "    </tr>\n",
       "    <tr>\n",
       "      <th>96</th>\n",
       "      <td>apartment</td>\n",
       "      <td>Limerick</td>\n",
       "      <td>4</td>\n",
       "      <td>303187.0</td>\n",
       "    </tr>\n",
       "    <tr>\n",
       "      <th>97</th>\n",
       "      <td>apartment</td>\n",
       "      <td>Limerick</td>\n",
       "      <td>3</td>\n",
       "      <td>427820.0</td>\n",
       "    </tr>\n",
       "    <tr>\n",
       "      <th>98</th>\n",
       "      <td>terraced</td>\n",
       "      <td>Limerick</td>\n",
       "      <td>4</td>\n",
       "      <td>237570.0</td>\n",
       "    </tr>\n",
       "    <tr>\n",
       "      <th>99</th>\n",
       "      <td>terraced</td>\n",
       "      <td>Limerick</td>\n",
       "      <td>3</td>\n",
       "      <td>228611.0</td>\n",
       "    </tr>\n",
       "  </tbody>\n",
       "</table>\n",
       "<p>100 rows × 4 columns</p>\n",
       "</div>"
      ],
      "text/plain": [
       "   Property type  Location  Bedrooms         0\n",
       "0      apartment  Limerick         4  269772.0\n",
       "1       detached  Limerick         3  233424.0\n",
       "2       terraced  Limerick         3  216297.0\n",
       "3           semi  Limerick         4  226424.0\n",
       "4       detached  Limerick         2  387265.0\n",
       "..           ...       ...       ...       ...\n",
       "95          semi  Limerick         3  177813.0\n",
       "96     apartment  Limerick         4  303187.0\n",
       "97     apartment  Limerick         3  427820.0\n",
       "98      terraced  Limerick         4  237570.0\n",
       "99      terraced  Limerick         3  228611.0\n",
       "\n",
       "[100 rows x 4 columns]"
      ]
     },
     "execution_count": 41,
     "metadata": {},
     "output_type": "execute_result"
    }
   ],
   "source": [
    "LimerickDF"
   ]
  },
  {
   "cell_type": "markdown",
   "metadata": {},
   "source": [
    "Giving a name \"Price\" to a newly added column"
   ]
  },
  {
   "cell_type": "code",
   "execution_count": 42,
   "metadata": {},
   "outputs": [
    {
     "data": {
      "text/html": [
       "<div>\n",
       "<style scoped>\n",
       "    .dataframe tbody tr th:only-of-type {\n",
       "        vertical-align: middle;\n",
       "    }\n",
       "\n",
       "    .dataframe tbody tr th {\n",
       "        vertical-align: top;\n",
       "    }\n",
       "\n",
       "    .dataframe thead th {\n",
       "        text-align: right;\n",
       "    }\n",
       "</style>\n",
       "<table border=\"1\" class=\"dataframe\">\n",
       "  <thead>\n",
       "    <tr style=\"text-align: right;\">\n",
       "      <th></th>\n",
       "      <th>Property type</th>\n",
       "      <th>Location</th>\n",
       "      <th>Bedrooms</th>\n",
       "      <th>Price</th>\n",
       "    </tr>\n",
       "  </thead>\n",
       "  <tbody>\n",
       "    <tr>\n",
       "      <th>0</th>\n",
       "      <td>apartment</td>\n",
       "      <td>Limerick</td>\n",
       "      <td>4</td>\n",
       "      <td>269772.0</td>\n",
       "    </tr>\n",
       "    <tr>\n",
       "      <th>1</th>\n",
       "      <td>detached</td>\n",
       "      <td>Limerick</td>\n",
       "      <td>3</td>\n",
       "      <td>233424.0</td>\n",
       "    </tr>\n",
       "    <tr>\n",
       "      <th>2</th>\n",
       "      <td>terraced</td>\n",
       "      <td>Limerick</td>\n",
       "      <td>3</td>\n",
       "      <td>216297.0</td>\n",
       "    </tr>\n",
       "    <tr>\n",
       "      <th>3</th>\n",
       "      <td>semi</td>\n",
       "      <td>Limerick</td>\n",
       "      <td>4</td>\n",
       "      <td>226424.0</td>\n",
       "    </tr>\n",
       "    <tr>\n",
       "      <th>4</th>\n",
       "      <td>detached</td>\n",
       "      <td>Limerick</td>\n",
       "      <td>2</td>\n",
       "      <td>387265.0</td>\n",
       "    </tr>\n",
       "    <tr>\n",
       "      <th>...</th>\n",
       "      <td>...</td>\n",
       "      <td>...</td>\n",
       "      <td>...</td>\n",
       "      <td>...</td>\n",
       "    </tr>\n",
       "    <tr>\n",
       "      <th>95</th>\n",
       "      <td>semi</td>\n",
       "      <td>Limerick</td>\n",
       "      <td>3</td>\n",
       "      <td>177813.0</td>\n",
       "    </tr>\n",
       "    <tr>\n",
       "      <th>96</th>\n",
       "      <td>apartment</td>\n",
       "      <td>Limerick</td>\n",
       "      <td>4</td>\n",
       "      <td>303187.0</td>\n",
       "    </tr>\n",
       "    <tr>\n",
       "      <th>97</th>\n",
       "      <td>apartment</td>\n",
       "      <td>Limerick</td>\n",
       "      <td>3</td>\n",
       "      <td>427820.0</td>\n",
       "    </tr>\n",
       "    <tr>\n",
       "      <th>98</th>\n",
       "      <td>terraced</td>\n",
       "      <td>Limerick</td>\n",
       "      <td>4</td>\n",
       "      <td>237570.0</td>\n",
       "    </tr>\n",
       "    <tr>\n",
       "      <th>99</th>\n",
       "      <td>terraced</td>\n",
       "      <td>Limerick</td>\n",
       "      <td>3</td>\n",
       "      <td>228611.0</td>\n",
       "    </tr>\n",
       "  </tbody>\n",
       "</table>\n",
       "<p>100 rows × 4 columns</p>\n",
       "</div>"
      ],
      "text/plain": [
       "   Property type  Location  Bedrooms     Price\n",
       "0      apartment  Limerick         4  269772.0\n",
       "1       detached  Limerick         3  233424.0\n",
       "2       terraced  Limerick         3  216297.0\n",
       "3           semi  Limerick         4  226424.0\n",
       "4       detached  Limerick         2  387265.0\n",
       "..           ...       ...       ...       ...\n",
       "95          semi  Limerick         3  177813.0\n",
       "96     apartment  Limerick         4  303187.0\n",
       "97     apartment  Limerick         3  427820.0\n",
       "98      terraced  Limerick         4  237570.0\n",
       "99      terraced  Limerick         3  228611.0\n",
       "\n",
       "[100 rows x 4 columns]"
      ]
     },
     "execution_count": 42,
     "metadata": {},
     "output_type": "execute_result"
    }
   ],
   "source": [
    "LimerickDF.rename(columns={0: 'Price'})"
   ]
  },
  {
   "cell_type": "markdown",
   "metadata": {},
   "source": [
    "## Dublin\n",
    "\n",
    "*****"
   ]
  },
  {
   "cell_type": "code",
   "execution_count": 44,
   "metadata": {},
   "outputs": [],
   "source": [
    "Dublin = df_new.loc[(df_new['Location'] == \"Dublin\")] "
   ]
  },
  {
   "cell_type": "code",
   "execution_count": 45,
   "metadata": {},
   "outputs": [
    {
     "data": {
      "text/html": [
       "<div>\n",
       "<style scoped>\n",
       "    .dataframe tbody tr th:only-of-type {\n",
       "        vertical-align: middle;\n",
       "    }\n",
       "\n",
       "    .dataframe tbody tr th {\n",
       "        vertical-align: top;\n",
       "    }\n",
       "\n",
       "    .dataframe thead th {\n",
       "        text-align: right;\n",
       "    }\n",
       "</style>\n",
       "<table border=\"1\" class=\"dataframe\">\n",
       "  <thead>\n",
       "    <tr style=\"text-align: right;\">\n",
       "      <th></th>\n",
       "      <th>Property type</th>\n",
       "      <th>Location</th>\n",
       "      <th>Bedrooms</th>\n",
       "    </tr>\n",
       "  </thead>\n",
       "  <tbody>\n",
       "    <tr>\n",
       "      <th>16</th>\n",
       "      <td>semi</td>\n",
       "      <td>Dublin</td>\n",
       "      <td>6</td>\n",
       "    </tr>\n",
       "    <tr>\n",
       "      <th>17</th>\n",
       "      <td>townhouse</td>\n",
       "      <td>Dublin</td>\n",
       "      <td>4</td>\n",
       "    </tr>\n",
       "    <tr>\n",
       "      <th>18</th>\n",
       "      <td>semi</td>\n",
       "      <td>Dublin</td>\n",
       "      <td>4</td>\n",
       "    </tr>\n",
       "    <tr>\n",
       "      <th>19</th>\n",
       "      <td>semi</td>\n",
       "      <td>Dublin</td>\n",
       "      <td>5</td>\n",
       "    </tr>\n",
       "    <tr>\n",
       "      <th>20</th>\n",
       "      <td>semi</td>\n",
       "      <td>Dublin</td>\n",
       "      <td>5</td>\n",
       "    </tr>\n",
       "    <tr>\n",
       "      <th>21</th>\n",
       "      <td>detached</td>\n",
       "      <td>Dublin</td>\n",
       "      <td>5</td>\n",
       "    </tr>\n",
       "    <tr>\n",
       "      <th>22</th>\n",
       "      <td>detached</td>\n",
       "      <td>Dublin</td>\n",
       "      <td>4</td>\n",
       "    </tr>\n",
       "    <tr>\n",
       "      <th>23</th>\n",
       "      <td>semi</td>\n",
       "      <td>Dublin</td>\n",
       "      <td>4</td>\n",
       "    </tr>\n",
       "    <tr>\n",
       "      <th>24</th>\n",
       "      <td>semi</td>\n",
       "      <td>Dublin</td>\n",
       "      <td>4</td>\n",
       "    </tr>\n",
       "    <tr>\n",
       "      <th>25</th>\n",
       "      <td>detached</td>\n",
       "      <td>Dublin</td>\n",
       "      <td>4</td>\n",
       "    </tr>\n",
       "    <tr>\n",
       "      <th>26</th>\n",
       "      <td>semi</td>\n",
       "      <td>Dublin</td>\n",
       "      <td>6</td>\n",
       "    </tr>\n",
       "    <tr>\n",
       "      <th>27</th>\n",
       "      <td>detached</td>\n",
       "      <td>Dublin</td>\n",
       "      <td>4</td>\n",
       "    </tr>\n",
       "    <tr>\n",
       "      <th>28</th>\n",
       "      <td>apartment</td>\n",
       "      <td>Dublin</td>\n",
       "      <td>2</td>\n",
       "    </tr>\n",
       "    <tr>\n",
       "      <th>29</th>\n",
       "      <td>detached</td>\n",
       "      <td>Dublin</td>\n",
       "      <td>4</td>\n",
       "    </tr>\n",
       "    <tr>\n",
       "      <th>30</th>\n",
       "      <td>apartment</td>\n",
       "      <td>Dublin</td>\n",
       "      <td>2</td>\n",
       "    </tr>\n",
       "    <tr>\n",
       "      <th>31</th>\n",
       "      <td>apartment</td>\n",
       "      <td>Dublin</td>\n",
       "      <td>2</td>\n",
       "    </tr>\n",
       "    <tr>\n",
       "      <th>32</th>\n",
       "      <td>terraced</td>\n",
       "      <td>Dublin</td>\n",
       "      <td>3</td>\n",
       "    </tr>\n",
       "    <tr>\n",
       "      <th>33</th>\n",
       "      <td>apartment</td>\n",
       "      <td>Dublin</td>\n",
       "      <td>3</td>\n",
       "    </tr>\n",
       "    <tr>\n",
       "      <th>34</th>\n",
       "      <td>detached</td>\n",
       "      <td>Dublin</td>\n",
       "      <td>4</td>\n",
       "    </tr>\n",
       "    <tr>\n",
       "      <th>35</th>\n",
       "      <td>semi</td>\n",
       "      <td>Dublin</td>\n",
       "      <td>3</td>\n",
       "    </tr>\n",
       "    <tr>\n",
       "      <th>36</th>\n",
       "      <td>semi</td>\n",
       "      <td>Dublin</td>\n",
       "      <td>3</td>\n",
       "    </tr>\n",
       "    <tr>\n",
       "      <th>37</th>\n",
       "      <td>semi</td>\n",
       "      <td>Dublin</td>\n",
       "      <td>3</td>\n",
       "    </tr>\n",
       "    <tr>\n",
       "      <th>38</th>\n",
       "      <td>apartment</td>\n",
       "      <td>Dublin</td>\n",
       "      <td>3</td>\n",
       "    </tr>\n",
       "    <tr>\n",
       "      <th>39</th>\n",
       "      <td>detached</td>\n",
       "      <td>Dublin</td>\n",
       "      <td>4</td>\n",
       "    </tr>\n",
       "    <tr>\n",
       "      <th>40</th>\n",
       "      <td>detached</td>\n",
       "      <td>Dublin</td>\n",
       "      <td>1</td>\n",
       "    </tr>\n",
       "    <tr>\n",
       "      <th>41</th>\n",
       "      <td>semi</td>\n",
       "      <td>Dublin</td>\n",
       "      <td>4</td>\n",
       "    </tr>\n",
       "    <tr>\n",
       "      <th>42</th>\n",
       "      <td>semi</td>\n",
       "      <td>Dublin</td>\n",
       "      <td>3</td>\n",
       "    </tr>\n",
       "    <tr>\n",
       "      <th>43</th>\n",
       "      <td>semi</td>\n",
       "      <td>Dublin</td>\n",
       "      <td>4</td>\n",
       "    </tr>\n",
       "    <tr>\n",
       "      <th>44</th>\n",
       "      <td>semi</td>\n",
       "      <td>Dublin</td>\n",
       "      <td>3</td>\n",
       "    </tr>\n",
       "    <tr>\n",
       "      <th>45</th>\n",
       "      <td>detached</td>\n",
       "      <td>Dublin</td>\n",
       "      <td>4</td>\n",
       "    </tr>\n",
       "    <tr>\n",
       "      <th>46</th>\n",
       "      <td>semi</td>\n",
       "      <td>Dublin</td>\n",
       "      <td>3</td>\n",
       "    </tr>\n",
       "    <tr>\n",
       "      <th>47</th>\n",
       "      <td>semi</td>\n",
       "      <td>Dublin</td>\n",
       "      <td>3</td>\n",
       "    </tr>\n",
       "    <tr>\n",
       "      <th>48</th>\n",
       "      <td>semi</td>\n",
       "      <td>Dublin</td>\n",
       "      <td>3</td>\n",
       "    </tr>\n",
       "    <tr>\n",
       "      <th>49</th>\n",
       "      <td>apartment</td>\n",
       "      <td>Dublin</td>\n",
       "      <td>5</td>\n",
       "    </tr>\n",
       "    <tr>\n",
       "      <th>50</th>\n",
       "      <td>duplex</td>\n",
       "      <td>Dublin</td>\n",
       "      <td>3</td>\n",
       "    </tr>\n",
       "    <tr>\n",
       "      <th>51</th>\n",
       "      <td>semi</td>\n",
       "      <td>Dublin</td>\n",
       "      <td>3</td>\n",
       "    </tr>\n",
       "    <tr>\n",
       "      <th>52</th>\n",
       "      <td>apartment</td>\n",
       "      <td>Dublin</td>\n",
       "      <td>3</td>\n",
       "    </tr>\n",
       "    <tr>\n",
       "      <th>53</th>\n",
       "      <td>duplex</td>\n",
       "      <td>Dublin</td>\n",
       "      <td>3</td>\n",
       "    </tr>\n",
       "    <tr>\n",
       "      <th>54</th>\n",
       "      <td>apartment</td>\n",
       "      <td>Dublin</td>\n",
       "      <td>2</td>\n",
       "    </tr>\n",
       "    <tr>\n",
       "      <th>55</th>\n",
       "      <td>semi</td>\n",
       "      <td>Dublin</td>\n",
       "      <td>3</td>\n",
       "    </tr>\n",
       "    <tr>\n",
       "      <th>56</th>\n",
       "      <td>apartment</td>\n",
       "      <td>Dublin</td>\n",
       "      <td>2</td>\n",
       "    </tr>\n",
       "  </tbody>\n",
       "</table>\n",
       "</div>"
      ],
      "text/plain": [
       "   Property type Location  Bedrooms\n",
       "16          semi   Dublin         6\n",
       "17     townhouse   Dublin         4\n",
       "18          semi   Dublin         4\n",
       "19          semi   Dublin         5\n",
       "20          semi   Dublin         5\n",
       "21      detached   Dublin         5\n",
       "22      detached   Dublin         4\n",
       "23          semi   Dublin         4\n",
       "24          semi   Dublin         4\n",
       "25      detached   Dublin         4\n",
       "26          semi   Dublin         6\n",
       "27      detached   Dublin         4\n",
       "28     apartment   Dublin         2\n",
       "29      detached   Dublin         4\n",
       "30     apartment   Dublin         2\n",
       "31     apartment   Dublin         2\n",
       "32      terraced   Dublin         3\n",
       "33     apartment   Dublin         3\n",
       "34      detached   Dublin         4\n",
       "35          semi   Dublin         3\n",
       "36          semi   Dublin         3\n",
       "37          semi   Dublin         3\n",
       "38     apartment   Dublin         3\n",
       "39      detached   Dublin         4\n",
       "40      detached   Dublin         1\n",
       "41          semi   Dublin         4\n",
       "42          semi   Dublin         3\n",
       "43          semi   Dublin         4\n",
       "44          semi   Dublin         3\n",
       "45      detached   Dublin         4\n",
       "46          semi   Dublin         3\n",
       "47          semi   Dublin         3\n",
       "48          semi   Dublin         3\n",
       "49     apartment   Dublin         5\n",
       "50        duplex   Dublin         3\n",
       "51          semi   Dublin         3\n",
       "52     apartment   Dublin         3\n",
       "53        duplex   Dublin         3\n",
       "54     apartment   Dublin         2\n",
       "55          semi   Dublin         3\n",
       "56     apartment   Dublin         2"
      ]
     },
     "execution_count": 45,
     "metadata": {},
     "output_type": "execute_result"
    }
   ],
   "source": [
    "Dublin"
   ]
  },
  {
   "cell_type": "code",
   "execution_count": 46,
   "metadata": {},
   "outputs": [
    {
     "data": {
      "text/plain": [
       "count    41.0\n",
       "mean      3.0\n",
       "std       1.0\n",
       "min       1.0\n",
       "25%       3.0\n",
       "50%       3.0\n",
       "75%       4.0\n",
       "max       6.0\n",
       "Name: Bedrooms, dtype: float64"
      ]
     },
     "execution_count": 46,
     "metadata": {},
     "output_type": "execute_result"
    }
   ],
   "source": [
    "# Applying descriptive stats to look into the data in more details\n",
    "Dublin[\"Bedrooms\"].describe().round(0)"
   ]
  },
  {
   "cell_type": "markdown",
   "metadata": {},
   "source": [
    "Calculating probability of occurence by \"Bedrooms\" value"
   ]
  },
  {
   "cell_type": "code",
   "execution_count": 47,
   "metadata": {},
   "outputs": [],
   "source": [
    "bedrooms_prob_d = Dublin.groupby('Bedrooms').size().div(len(Dublin)).round(2)\n",
    "\n",
    "# Reference: https://stackoverflow.com/questions/37818063/how-to-calculate-conditional-probability-of-values-in-dataframe-pandas-python"
   ]
  },
  {
   "cell_type": "code",
   "execution_count": 48,
   "metadata": {},
   "outputs": [
    {
     "data": {
      "text/plain": [
       "Bedrooms\n",
       "1    0.02\n",
       "2    0.12\n",
       "3    0.39\n",
       "4    0.32\n",
       "5    0.10\n",
       "6    0.05\n",
       "dtype: float64"
      ]
     },
     "execution_count": 48,
     "metadata": {},
     "output_type": "execute_result"
    }
   ],
   "source": [
    "bedrooms_prob_d"
   ]
  },
  {
   "cell_type": "markdown",
   "metadata": {},
   "source": [
    "Plotting \"Bedrooms\" value over 100 data points, taking into account probability"
   ]
  },
  {
   "cell_type": "code",
   "execution_count": 49,
   "metadata": {},
   "outputs": [],
   "source": [
    "Property_type_d = [1,2,3,4,5,6]\n",
    "Dublin_bedrooms100 = np.random.choice(Property_type_d, 100, p=[0.02,0.12,0.39,0.32, 0.10, 0.05])\n",
    "\n",
    "# Reference: https://stackoverflow.com/questions/57435469/how-to-generate-random-categorical-data-in-python-according-to-a-probability-dis\n",
    "# https://docs.scipy.org/doc/numpy-1.15.0/reference/generated/numpy.random.choice.html#numpy.random.choice"
   ]
  },
  {
   "cell_type": "code",
   "execution_count": 50,
   "metadata": {},
   "outputs": [
    {
     "data": {
      "text/plain": [
       "array([3, 3, 3, 2, 3, 5, 3, 6, 4, 4, 3, 5, 3, 3, 5, 1, 3, 1, 3, 5, 6, 3,\n",
       "       4, 4, 4, 3, 5, 6, 4, 3, 3, 5, 4, 4, 3, 4, 4, 3, 3, 3, 3, 4, 3, 5,\n",
       "       5, 4, 3, 3, 3, 4, 4, 4, 6, 5, 2, 3, 3, 4, 4, 3, 4, 3, 4, 3, 4, 4,\n",
       "       6, 5, 4, 4, 3, 3, 4, 5, 5, 3, 6, 4, 3, 4, 4, 5, 3, 3, 3, 6, 3, 3,\n",
       "       3, 3, 4, 3, 5, 4, 2, 4, 3, 3, 4, 5])"
      ]
     },
     "execution_count": 50,
     "metadata": {},
     "output_type": "execute_result"
    }
   ],
   "source": [
    "Dublin_bedrooms100"
   ]
  },
  {
   "cell_type": "code",
   "execution_count": 51,
   "metadata": {},
   "outputs": [
    {
     "data": {
      "image/png": "[encoded data removed]",
      "text/plain": [
       "<Figure size 432x288 with 1 Axes>"
      ]
     },
     "metadata": {
      "needs_background": "light"
     },
     "output_type": "display_data"
    }
   ],
   "source": [
    "# Plotting a histogram\n",
    "plt.hist(Dublin_bedrooms100);"
   ]
  },
  {
   "cell_type": "code",
   "execution_count": 53,
   "metadata": {},
   "outputs": [
    {
     "data": {
      "text/plain": [
       "count       41\n",
       "unique       6\n",
       "top       semi\n",
       "freq        19\n",
       "Name: Property type, dtype: object"
      ]
     },
     "execution_count": 53,
     "metadata": {},
     "output_type": "execute_result"
    }
   ],
   "source": [
    "# Applying descriptive stats to look into the data in more details\n",
    "Dublin[\"Property type\"].describe()"
   ]
  },
  {
   "cell_type": "markdown",
   "metadata": {},
   "source": [
    "##### Calculating probability of \"Property type\" value"
   ]
  },
  {
   "cell_type": "code",
   "execution_count": 54,
   "metadata": {},
   "outputs": [],
   "source": [
    "property_prob_d = Dublin.groupby('Property type').size().div(len(Dublin)).round(2)\n",
    "\n",
    "# Reference: https://stackoverflow.com/questions/37818063/how-to-calculate-conditional-probability-of-values-in-dataframe-pandas-python"
   ]
  },
  {
   "cell_type": "code",
   "execution_count": 55,
   "metadata": {},
   "outputs": [
    {
     "data": {
      "text/plain": [
       "Property type\n",
       "apartment    0.22\n",
       "detached     0.22\n",
       "duplex       0.05\n",
       "semi         0.46\n",
       "terraced     0.02\n",
       "townhouse    0.02\n",
       "dtype: float64"
      ]
     },
     "execution_count": 55,
     "metadata": {},
     "output_type": "execute_result"
    }
   ],
   "source": [
    "property_prob_d"
   ]
  },
  {
   "cell_type": "markdown",
   "metadata": {},
   "source": [
    "Plotting \"Property type\" value over 100 data points, taking into account probability"
   ]
  },
  {
   "cell_type": "code",
   "execution_count": 58,
   "metadata": {},
   "outputs": [],
   "source": [
    "Property_type_d = ['apartment', 'detached', 'duplex', 'semi','terraced','townhouse']\n",
    "Dublin_property100 = np.random.choice(Property_type_d, 100, p=[0.22,0.22, 0.05, 0.47, 0.02,0.02])\n",
    "\n",
    "# Reference: https://stackoverflow.com/questions/57435469/how-to-generate-random-categorical-data-in-python-according-to-a-probability-dis\n",
    "# https://docs.scipy.org/doc/numpy-1.15.0/reference/generated/numpy.random.choice.html#numpy.random.choice"
   ]
  },
  {
   "cell_type": "code",
   "execution_count": 60,
   "metadata": {},
   "outputs": [
    {
     "data": {
      "text/plain": [
       "array(['detached', 'detached', 'detached', 'semi', 'semi', 'duplex',\n",
       "       'apartment', 'apartment', 'semi', 'semi', 'apartment', 'detached',\n",
       "       'apartment', 'semi', 'semi', 'detached', 'semi', 'apartment',\n",
       "       'detached', 'semi', 'detached', 'apartment', 'detached', 'duplex',\n",
       "       'semi', 'apartment', 'semi', 'apartment', 'detached', 'detached',\n",
       "       'apartment', 'detached', 'terraced', 'apartment', 'apartment',\n",
       "       'detached', 'semi', 'detached', 'detached', 'detached', 'semi',\n",
       "       'semi', 'semi', 'semi', 'detached', 'detached', 'semi', 'detached',\n",
       "       'semi', 'townhouse', 'semi', 'semi', 'semi', 'apartment',\n",
       "       'detached', 'semi', 'semi', 'semi', 'semi', 'semi', 'semi', 'semi',\n",
       "       'apartment', 'semi', 'duplex', 'semi', 'apartment', 'duplex',\n",
       "       'detached', 'semi', 'semi', 'detached', 'semi', 'semi', 'semi',\n",
       "       'semi', 'apartment', 'semi', 'semi', 'detached', 'semi', 'semi',\n",
       "       'semi', 'semi', 'semi', 'detached', 'semi', 'semi', 'semi',\n",
       "       'detached', 'semi', 'semi', 'duplex', 'semi', 'apartment',\n",
       "       'detached', 'apartment', 'detached', 'detached', 'apartment'],\n",
       "      dtype='<U9')"
      ]
     },
     "execution_count": 60,
     "metadata": {},
     "output_type": "execute_result"
    }
   ],
   "source": [
    "Dublin_property100"
   ]
  },
  {
   "cell_type": "code",
   "execution_count": 61,
   "metadata": {},
   "outputs": [
    {
     "data": {
      "text/html": [
       "<div>\n",
       "<style scoped>\n",
       "    .dataframe tbody tr th:only-of-type {\n",
       "        vertical-align: middle;\n",
       "    }\n",
       "\n",
       "    .dataframe tbody tr th {\n",
       "        vertical-align: top;\n",
       "    }\n",
       "\n",
       "    .dataframe thead th {\n",
       "        text-align: right;\n",
       "    }\n",
       "</style>\n",
       "<table border=\"1\" class=\"dataframe\">\n",
       "  <thead>\n",
       "    <tr style=\"text-align: right;\">\n",
       "      <th></th>\n",
       "      <th>Property type</th>\n",
       "      <th>Location</th>\n",
       "      <th>Bedrooms</th>\n",
       "    </tr>\n",
       "  </thead>\n",
       "  <tbody>\n",
       "    <tr>\n",
       "      <th>0</th>\n",
       "      <td>detached</td>\n",
       "      <td>Dublin</td>\n",
       "      <td>3</td>\n",
       "    </tr>\n",
       "    <tr>\n",
       "      <th>1</th>\n",
       "      <td>detached</td>\n",
       "      <td>Dublin</td>\n",
       "      <td>3</td>\n",
       "    </tr>\n",
       "    <tr>\n",
       "      <th>2</th>\n",
       "      <td>detached</td>\n",
       "      <td>Dublin</td>\n",
       "      <td>3</td>\n",
       "    </tr>\n",
       "    <tr>\n",
       "      <th>3</th>\n",
       "      <td>semi</td>\n",
       "      <td>Dublin</td>\n",
       "      <td>2</td>\n",
       "    </tr>\n",
       "    <tr>\n",
       "      <th>4</th>\n",
       "      <td>semi</td>\n",
       "      <td>Dublin</td>\n",
       "      <td>3</td>\n",
       "    </tr>\n",
       "    <tr>\n",
       "      <th>...</th>\n",
       "      <td>...</td>\n",
       "      <td>...</td>\n",
       "      <td>...</td>\n",
       "    </tr>\n",
       "    <tr>\n",
       "      <th>95</th>\n",
       "      <td>detached</td>\n",
       "      <td>Dublin</td>\n",
       "      <td>4</td>\n",
       "    </tr>\n",
       "    <tr>\n",
       "      <th>96</th>\n",
       "      <td>apartment</td>\n",
       "      <td>Dublin</td>\n",
       "      <td>3</td>\n",
       "    </tr>\n",
       "    <tr>\n",
       "      <th>97</th>\n",
       "      <td>detached</td>\n",
       "      <td>Dublin</td>\n",
       "      <td>3</td>\n",
       "    </tr>\n",
       "    <tr>\n",
       "      <th>98</th>\n",
       "      <td>detached</td>\n",
       "      <td>Dublin</td>\n",
       "      <td>4</td>\n",
       "    </tr>\n",
       "    <tr>\n",
       "      <th>99</th>\n",
       "      <td>apartment</td>\n",
       "      <td>Dublin</td>\n",
       "      <td>5</td>\n",
       "    </tr>\n",
       "  </tbody>\n",
       "</table>\n",
       "<p>100 rows × 3 columns</p>\n",
       "</div>"
      ],
      "text/plain": [
       "   Property type Location  Bedrooms\n",
       "0       detached   Dublin         3\n",
       "1       detached   Dublin         3\n",
       "2       detached   Dublin         3\n",
       "3           semi   Dublin         2\n",
       "4           semi   Dublin         3\n",
       "..           ...      ...       ...\n",
       "95      detached   Dublin         4\n",
       "96     apartment   Dublin         3\n",
       "97      detached   Dublin         3\n",
       "98      detached   Dublin         4\n",
       "99     apartment   Dublin         5\n",
       "\n",
       "[100 rows x 3 columns]"
      ]
     },
     "execution_count": 61,
     "metadata": {},
     "output_type": "execute_result"
    }
   ],
   "source": [
    "# Creating a data set with that information\n",
    "\n",
    "np.random.seed(32) # Seed reset - the numbers will stay the same at re-run\n",
    "\n",
    "NewDF_d = pd.DataFrame({'Property type':Dublin_property100, 'Location':'Dublin', 'Bedrooms':Dublin_bedrooms100})\n",
    "NewDF_d # Print new data frame\n"
   ]
  },
  {
   "cell_type": "markdown",
   "metadata": {},
   "source": [
    "Lower end price for an apartment in Dublin is about 220,000 euros.\n",
    "Average price for a 3 bedroom house in Dublin is about 381,000 euros.\n",
    "Higher end price for a house in Dublin is about 680,000 euros.\n",
    "\n",
    " Reference:  https://www.dublinlive.ie/news/property/dublin-cheap-house-property-sale-15779001\n",
    " https://www.daft.ie/property-for-sale/dublin-city"
   ]
  },
  {
   "cell_type": "markdown",
   "metadata": {},
   "source": [
    "Let us draw 100 samples from a triangular distribution. The triangular distribution is a continuous probability distribution with lower limit left, peak at mode, and upper limit right."
   ]
  },
  {
   "cell_type": "code",
   "execution_count": 63,
   "metadata": {},
   "outputs": [],
   "source": [
    "np.random.seed(25) # Using seed option so that the numbers are the same \n",
    "dublinprice = np.random.triangular(220000,381000,680000,100).round(0)\n",
    "\n",
    "# Reference: https://numpy.org/doc/stable/reference/random/generated/numpy.random.triangular.html"
   ]
  },
  {
   "cell_type": "code",
   "execution_count": 64,
   "metadata": {},
   "outputs": [
    {
     "data": {
      "text/plain": [
       "array([546347., 440305., 363704., 337340., 395400., 313235., 471843.,\n",
       "       401880., 432945., 384955., 393297., 311498., 404219., 441216.,\n",
       "       329529., 423250., 375394., 476594., 384795., 529983., 412912.,\n",
       "       422124., 388700., 661609., 421522., 433732., 270511., 483733.,\n",
       "       397803., 401712., 364439., 562884., 466830., 406482., 366502.,\n",
       "       424620., 433785., 492827., 526347., 524279., 295584., 458989.,\n",
       "       371339., 424199., 604079., 553254., 367918., 421025., 301051.,\n",
       "       458013., 319031., 500786., 295389., 376579., 470159., 420187.,\n",
       "       462213., 446068., 483426., 396397., 391903., 524918., 481164.,\n",
       "       305166., 532657., 402674., 386569., 571037., 430604., 356596.,\n",
       "       265108., 343594., 442788., 330091., 530237., 504163., 331889.,\n",
       "       500982., 377598., 410619., 346205., 570043., 498015., 469084.,\n",
       "       259789., 464029., 303631., 527613., 311379., 435913., 333723.,\n",
       "       510294., 269945., 512482., 473324., 415630., 300983., 587321.,\n",
       "       299043., 409853.])"
      ]
     },
     "execution_count": 64,
     "metadata": {},
     "output_type": "execute_result"
    }
   ],
   "source": [
    "dublinprice"
   ]
  },
  {
   "cell_type": "markdown",
   "metadata": {},
   "source": [
    "Converting array into dataset"
   ]
  },
  {
   "cell_type": "code",
   "execution_count": 66,
   "metadata": {},
   "outputs": [],
   "source": [
    "Price_d = pd.DataFrame(dublinprice)"
   ]
  },
  {
   "cell_type": "code",
   "execution_count": 67,
   "metadata": {},
   "outputs": [
    {
     "data": {
      "text/html": [
       "<div>\n",
       "<style scoped>\n",
       "    .dataframe tbody tr th:only-of-type {\n",
       "        vertical-align: middle;\n",
       "    }\n",
       "\n",
       "    .dataframe tbody tr th {\n",
       "        vertical-align: top;\n",
       "    }\n",
       "\n",
       "    .dataframe thead th {\n",
       "        text-align: right;\n",
       "    }\n",
       "</style>\n",
       "<table border=\"1\" class=\"dataframe\">\n",
       "  <thead>\n",
       "    <tr style=\"text-align: right;\">\n",
       "      <th></th>\n",
       "      <th>0</th>\n",
       "    </tr>\n",
       "  </thead>\n",
       "  <tbody>\n",
       "    <tr>\n",
       "      <th>0</th>\n",
       "      <td>546347.0</td>\n",
       "    </tr>\n",
       "    <tr>\n",
       "      <th>1</th>\n",
       "      <td>440305.0</td>\n",
       "    </tr>\n",
       "    <tr>\n",
       "      <th>2</th>\n",
       "      <td>363704.0</td>\n",
       "    </tr>\n",
       "    <tr>\n",
       "      <th>3</th>\n",
       "      <td>337340.0</td>\n",
       "    </tr>\n",
       "    <tr>\n",
       "      <th>4</th>\n",
       "      <td>395400.0</td>\n",
       "    </tr>\n",
       "    <tr>\n",
       "      <th>...</th>\n",
       "      <td>...</td>\n",
       "    </tr>\n",
       "    <tr>\n",
       "      <th>95</th>\n",
       "      <td>415630.0</td>\n",
       "    </tr>\n",
       "    <tr>\n",
       "      <th>96</th>\n",
       "      <td>300983.0</td>\n",
       "    </tr>\n",
       "    <tr>\n",
       "      <th>97</th>\n",
       "      <td>587321.0</td>\n",
       "    </tr>\n",
       "    <tr>\n",
       "      <th>98</th>\n",
       "      <td>299043.0</td>\n",
       "    </tr>\n",
       "    <tr>\n",
       "      <th>99</th>\n",
       "      <td>409853.0</td>\n",
       "    </tr>\n",
       "  </tbody>\n",
       "</table>\n",
       "<p>100 rows × 1 columns</p>\n",
       "</div>"
      ],
      "text/plain": [
       "           0\n",
       "0   546347.0\n",
       "1   440305.0\n",
       "2   363704.0\n",
       "3   337340.0\n",
       "4   395400.0\n",
       "..       ...\n",
       "95  415630.0\n",
       "96  300983.0\n",
       "97  587321.0\n",
       "98  299043.0\n",
       "99  409853.0\n",
       "\n",
       "[100 rows x 1 columns]"
      ]
     },
     "execution_count": 67,
     "metadata": {},
     "output_type": "execute_result"
    }
   ],
   "source": [
    "Price_d"
   ]
  },
  {
   "cell_type": "markdown",
   "metadata": {},
   "source": [
    "##### Combining all data for Dublin together"
   ]
  },
  {
   "cell_type": "code",
   "execution_count": 68,
   "metadata": {},
   "outputs": [],
   "source": [
    "DublinDF = NewDF_d.join(Price_d)\n",
    "\n",
    "# Reference:  https://pandas.pydata.org/pandas-docs/stable/reference/api/pandas.DataFrame.join.html"
   ]
  },
  {
   "cell_type": "code",
   "execution_count": 69,
   "metadata": {},
   "outputs": [
    {
     "data": {
      "text/html": [
       "<div>\n",
       "<style scoped>\n",
       "    .dataframe tbody tr th:only-of-type {\n",
       "        vertical-align: middle;\n",
       "    }\n",
       "\n",
       "    .dataframe tbody tr th {\n",
       "        vertical-align: top;\n",
       "    }\n",
       "\n",
       "    .dataframe thead th {\n",
       "        text-align: right;\n",
       "    }\n",
       "</style>\n",
       "<table border=\"1\" class=\"dataframe\">\n",
       "  <thead>\n",
       "    <tr style=\"text-align: right;\">\n",
       "      <th></th>\n",
       "      <th>Property type</th>\n",
       "      <th>Location</th>\n",
       "      <th>Bedrooms</th>\n",
       "      <th>0</th>\n",
       "    </tr>\n",
       "  </thead>\n",
       "  <tbody>\n",
       "    <tr>\n",
       "      <th>0</th>\n",
       "      <td>detached</td>\n",
       "      <td>Dublin</td>\n",
       "      <td>3</td>\n",
       "      <td>546347.0</td>\n",
       "    </tr>\n",
       "    <tr>\n",
       "      <th>1</th>\n",
       "      <td>detached</td>\n",
       "      <td>Dublin</td>\n",
       "      <td>3</td>\n",
       "      <td>440305.0</td>\n",
       "    </tr>\n",
       "    <tr>\n",
       "      <th>2</th>\n",
       "      <td>detached</td>\n",
       "      <td>Dublin</td>\n",
       "      <td>3</td>\n",
       "      <td>363704.0</td>\n",
       "    </tr>\n",
       "    <tr>\n",
       "      <th>3</th>\n",
       "      <td>semi</td>\n",
       "      <td>Dublin</td>\n",
       "      <td>2</td>\n",
       "      <td>337340.0</td>\n",
       "    </tr>\n",
       "    <tr>\n",
       "      <th>4</th>\n",
       "      <td>semi</td>\n",
       "      <td>Dublin</td>\n",
       "      <td>3</td>\n",
       "      <td>395400.0</td>\n",
       "    </tr>\n",
       "    <tr>\n",
       "      <th>...</th>\n",
       "      <td>...</td>\n",
       "      <td>...</td>\n",
       "      <td>...</td>\n",
       "      <td>...</td>\n",
       "    </tr>\n",
       "    <tr>\n",
       "      <th>95</th>\n",
       "      <td>detached</td>\n",
       "      <td>Dublin</td>\n",
       "      <td>4</td>\n",
       "      <td>415630.0</td>\n",
       "    </tr>\n",
       "    <tr>\n",
       "      <th>96</th>\n",
       "      <td>apartment</td>\n",
       "      <td>Dublin</td>\n",
       "      <td>3</td>\n",
       "      <td>300983.0</td>\n",
       "    </tr>\n",
       "    <tr>\n",
       "      <th>97</th>\n",
       "      <td>detached</td>\n",
       "      <td>Dublin</td>\n",
       "      <td>3</td>\n",
       "      <td>587321.0</td>\n",
       "    </tr>\n",
       "    <tr>\n",
       "      <th>98</th>\n",
       "      <td>detached</td>\n",
       "      <td>Dublin</td>\n",
       "      <td>4</td>\n",
       "      <td>299043.0</td>\n",
       "    </tr>\n",
       "    <tr>\n",
       "      <th>99</th>\n",
       "      <td>apartment</td>\n",
       "      <td>Dublin</td>\n",
       "      <td>5</td>\n",
       "      <td>409853.0</td>\n",
       "    </tr>\n",
       "  </tbody>\n",
       "</table>\n",
       "<p>100 rows × 4 columns</p>\n",
       "</div>"
      ],
      "text/plain": [
       "   Property type Location  Bedrooms         0\n",
       "0       detached   Dublin         3  546347.0\n",
       "1       detached   Dublin         3  440305.0\n",
       "2       detached   Dublin         3  363704.0\n",
       "3           semi   Dublin         2  337340.0\n",
       "4           semi   Dublin         3  395400.0\n",
       "..           ...      ...       ...       ...\n",
       "95      detached   Dublin         4  415630.0\n",
       "96     apartment   Dublin         3  300983.0\n",
       "97      detached   Dublin         3  587321.0\n",
       "98      detached   Dublin         4  299043.0\n",
       "99     apartment   Dublin         5  409853.0\n",
       "\n",
       "[100 rows x 4 columns]"
      ]
     },
     "execution_count": 69,
     "metadata": {},
     "output_type": "execute_result"
    }
   ],
   "source": [
    "DublinDF"
   ]
  },
  {
   "cell_type": "markdown",
   "metadata": {},
   "source": [
    "Giving a name \"Price\" to a newly added column"
   ]
  },
  {
   "cell_type": "code",
   "execution_count": 70,
   "metadata": {},
   "outputs": [
    {
     "data": {
      "text/html": [
       "<div>\n",
       "<style scoped>\n",
       "    .dataframe tbody tr th:only-of-type {\n",
       "        vertical-align: middle;\n",
       "    }\n",
       "\n",
       "    .dataframe tbody tr th {\n",
       "        vertical-align: top;\n",
       "    }\n",
       "\n",
       "    .dataframe thead th {\n",
       "        text-align: right;\n",
       "    }\n",
       "</style>\n",
       "<table border=\"1\" class=\"dataframe\">\n",
       "  <thead>\n",
       "    <tr style=\"text-align: right;\">\n",
       "      <th></th>\n",
       "      <th>Property type</th>\n",
       "      <th>Location</th>\n",
       "      <th>Bedrooms</th>\n",
       "      <th>Price</th>\n",
       "    </tr>\n",
       "  </thead>\n",
       "  <tbody>\n",
       "    <tr>\n",
       "      <th>0</th>\n",
       "      <td>detached</td>\n",
       "      <td>Dublin</td>\n",
       "      <td>3</td>\n",
       "      <td>546347.0</td>\n",
       "    </tr>\n",
       "    <tr>\n",
       "      <th>1</th>\n",
       "      <td>detached</td>\n",
       "      <td>Dublin</td>\n",
       "      <td>3</td>\n",
       "      <td>440305.0</td>\n",
       "    </tr>\n",
       "    <tr>\n",
       "      <th>2</th>\n",
       "      <td>detached</td>\n",
       "      <td>Dublin</td>\n",
       "      <td>3</td>\n",
       "      <td>363704.0</td>\n",
       "    </tr>\n",
       "    <tr>\n",
       "      <th>3</th>\n",
       "      <td>semi</td>\n",
       "      <td>Dublin</td>\n",
       "      <td>2</td>\n",
       "      <td>337340.0</td>\n",
       "    </tr>\n",
       "    <tr>\n",
       "      <th>4</th>\n",
       "      <td>semi</td>\n",
       "      <td>Dublin</td>\n",
       "      <td>3</td>\n",
       "      <td>395400.0</td>\n",
       "    </tr>\n",
       "    <tr>\n",
       "      <th>...</th>\n",
       "      <td>...</td>\n",
       "      <td>...</td>\n",
       "      <td>...</td>\n",
       "      <td>...</td>\n",
       "    </tr>\n",
       "    <tr>\n",
       "      <th>95</th>\n",
       "      <td>detached</td>\n",
       "      <td>Dublin</td>\n",
       "      <td>4</td>\n",
       "      <td>415630.0</td>\n",
       "    </tr>\n",
       "    <tr>\n",
       "      <th>96</th>\n",
       "      <td>apartment</td>\n",
       "      <td>Dublin</td>\n",
       "      <td>3</td>\n",
       "      <td>300983.0</td>\n",
       "    </tr>\n",
       "    <tr>\n",
       "      <th>97</th>\n",
       "      <td>detached</td>\n",
       "      <td>Dublin</td>\n",
       "      <td>3</td>\n",
       "      <td>587321.0</td>\n",
       "    </tr>\n",
       "    <tr>\n",
       "      <th>98</th>\n",
       "      <td>detached</td>\n",
       "      <td>Dublin</td>\n",
       "      <td>4</td>\n",
       "      <td>299043.0</td>\n",
       "    </tr>\n",
       "    <tr>\n",
       "      <th>99</th>\n",
       "      <td>apartment</td>\n",
       "      <td>Dublin</td>\n",
       "      <td>5</td>\n",
       "      <td>409853.0</td>\n",
       "    </tr>\n",
       "  </tbody>\n",
       "</table>\n",
       "<p>100 rows × 4 columns</p>\n",
       "</div>"
      ],
      "text/plain": [
       "   Property type Location  Bedrooms     Price\n",
       "0       detached   Dublin         3  546347.0\n",
       "1       detached   Dublin         3  440305.0\n",
       "2       detached   Dublin         3  363704.0\n",
       "3           semi   Dublin         2  337340.0\n",
       "4           semi   Dublin         3  395400.0\n",
       "..           ...      ...       ...       ...\n",
       "95      detached   Dublin         4  415630.0\n",
       "96     apartment   Dublin         3  300983.0\n",
       "97      detached   Dublin         3  587321.0\n",
       "98      detached   Dublin         4  299043.0\n",
       "99     apartment   Dublin         5  409853.0\n",
       "\n",
       "[100 rows x 4 columns]"
      ]
     },
     "execution_count": 70,
     "metadata": {},
     "output_type": "execute_result"
    }
   ],
   "source": [
    "DublinDF.rename(columns={0: 'Price'})"
   ]
  },
  {
   "cell_type": "markdown",
   "metadata": {},
   "source": [
    "## Cork\n",
    "\n",
    "*****"
   ]
  },
  {
   "cell_type": "code",
   "execution_count": 71,
   "metadata": {},
   "outputs": [],
   "source": [
    "Cork = df_new.loc[(df_new['Location'] == \"Cork\")]"
   ]
  },
  {
   "cell_type": "code",
   "execution_count": 72,
   "metadata": {},
   "outputs": [
    {
     "data": {
      "text/html": [
       "<div>\n",
       "<style scoped>\n",
       "    .dataframe tbody tr th:only-of-type {\n",
       "        vertical-align: middle;\n",
       "    }\n",
       "\n",
       "    .dataframe tbody tr th {\n",
       "        vertical-align: top;\n",
       "    }\n",
       "\n",
       "    .dataframe thead th {\n",
       "        text-align: right;\n",
       "    }\n",
       "</style>\n",
       "<table border=\"1\" class=\"dataframe\">\n",
       "  <thead>\n",
       "    <tr style=\"text-align: right;\">\n",
       "      <th></th>\n",
       "      <th>Property type</th>\n",
       "      <th>Location</th>\n",
       "      <th>Bedrooms</th>\n",
       "    </tr>\n",
       "  </thead>\n",
       "  <tbody>\n",
       "    <tr>\n",
       "      <th>75</th>\n",
       "      <td>detached</td>\n",
       "      <td>Cork</td>\n",
       "      <td>4</td>\n",
       "    </tr>\n",
       "    <tr>\n",
       "      <th>76</th>\n",
       "      <td>detached</td>\n",
       "      <td>Cork</td>\n",
       "      <td>5</td>\n",
       "    </tr>\n",
       "    <tr>\n",
       "      <th>77</th>\n",
       "      <td>semi</td>\n",
       "      <td>Cork</td>\n",
       "      <td>3</td>\n",
       "    </tr>\n",
       "    <tr>\n",
       "      <th>78</th>\n",
       "      <td>semi</td>\n",
       "      <td>Cork</td>\n",
       "      <td>3</td>\n",
       "    </tr>\n",
       "    <tr>\n",
       "      <th>79</th>\n",
       "      <td>semi</td>\n",
       "      <td>Cork</td>\n",
       "      <td>4</td>\n",
       "    </tr>\n",
       "    <tr>\n",
       "      <th>80</th>\n",
       "      <td>semi</td>\n",
       "      <td>Cork</td>\n",
       "      <td>5</td>\n",
       "    </tr>\n",
       "    <tr>\n",
       "      <th>81</th>\n",
       "      <td>detached</td>\n",
       "      <td>Cork</td>\n",
       "      <td>4</td>\n",
       "    </tr>\n",
       "    <tr>\n",
       "      <th>82</th>\n",
       "      <td>semi</td>\n",
       "      <td>Cork</td>\n",
       "      <td>4</td>\n",
       "    </tr>\n",
       "    <tr>\n",
       "      <th>83</th>\n",
       "      <td>semi</td>\n",
       "      <td>Cork</td>\n",
       "      <td>3</td>\n",
       "    </tr>\n",
       "    <tr>\n",
       "      <th>84</th>\n",
       "      <td>semi</td>\n",
       "      <td>Cork</td>\n",
       "      <td>3</td>\n",
       "    </tr>\n",
       "    <tr>\n",
       "      <th>85</th>\n",
       "      <td>semi</td>\n",
       "      <td>Cork</td>\n",
       "      <td>3</td>\n",
       "    </tr>\n",
       "    <tr>\n",
       "      <th>86</th>\n",
       "      <td>detached</td>\n",
       "      <td>Cork</td>\n",
       "      <td>4</td>\n",
       "    </tr>\n",
       "    <tr>\n",
       "      <th>87</th>\n",
       "      <td>apartment</td>\n",
       "      <td>Cork</td>\n",
       "      <td>2</td>\n",
       "    </tr>\n",
       "    <tr>\n",
       "      <th>88</th>\n",
       "      <td>duplex</td>\n",
       "      <td>Cork</td>\n",
       "      <td>3</td>\n",
       "    </tr>\n",
       "    <tr>\n",
       "      <th>89</th>\n",
       "      <td>detached</td>\n",
       "      <td>Cork</td>\n",
       "      <td>7</td>\n",
       "    </tr>\n",
       "    <tr>\n",
       "      <th>90</th>\n",
       "      <td>semi</td>\n",
       "      <td>Cork</td>\n",
       "      <td>3</td>\n",
       "    </tr>\n",
       "    <tr>\n",
       "      <th>91</th>\n",
       "      <td>detached</td>\n",
       "      <td>Cork</td>\n",
       "      <td>4</td>\n",
       "    </tr>\n",
       "    <tr>\n",
       "      <th>92</th>\n",
       "      <td>semi</td>\n",
       "      <td>Cork</td>\n",
       "      <td>4</td>\n",
       "    </tr>\n",
       "    <tr>\n",
       "      <th>93</th>\n",
       "      <td>terraced</td>\n",
       "      <td>Cork</td>\n",
       "      <td>4</td>\n",
       "    </tr>\n",
       "    <tr>\n",
       "      <th>94</th>\n",
       "      <td>semi</td>\n",
       "      <td>Cork</td>\n",
       "      <td>3</td>\n",
       "    </tr>\n",
       "    <tr>\n",
       "      <th>95</th>\n",
       "      <td>apartment</td>\n",
       "      <td>Cork</td>\n",
       "      <td>2</td>\n",
       "    </tr>\n",
       "    <tr>\n",
       "      <th>96</th>\n",
       "      <td>duplex</td>\n",
       "      <td>Cork</td>\n",
       "      <td>3</td>\n",
       "    </tr>\n",
       "    <tr>\n",
       "      <th>97</th>\n",
       "      <td>apartment</td>\n",
       "      <td>Cork</td>\n",
       "      <td>2</td>\n",
       "    </tr>\n",
       "    <tr>\n",
       "      <th>98</th>\n",
       "      <td>semi</td>\n",
       "      <td>Cork</td>\n",
       "      <td>3</td>\n",
       "    </tr>\n",
       "    <tr>\n",
       "      <th>99</th>\n",
       "      <td>semi</td>\n",
       "      <td>Cork</td>\n",
       "      <td>3</td>\n",
       "    </tr>\n",
       "  </tbody>\n",
       "</table>\n",
       "</div>"
      ],
      "text/plain": [
       "   Property type Location  Bedrooms\n",
       "75      detached     Cork         4\n",
       "76      detached     Cork         5\n",
       "77          semi     Cork         3\n",
       "78          semi     Cork         3\n",
       "79          semi     Cork         4\n",
       "80          semi     Cork         5\n",
       "81      detached     Cork         4\n",
       "82          semi     Cork         4\n",
       "83          semi     Cork         3\n",
       "84          semi     Cork         3\n",
       "85          semi     Cork         3\n",
       "86      detached     Cork         4\n",
       "87     apartment     Cork         2\n",
       "88        duplex     Cork         3\n",
       "89      detached     Cork         7\n",
       "90          semi     Cork         3\n",
       "91      detached     Cork         4\n",
       "92          semi     Cork         4\n",
       "93      terraced     Cork         4\n",
       "94          semi     Cork         3\n",
       "95     apartment     Cork         2\n",
       "96        duplex     Cork         3\n",
       "97     apartment     Cork         2\n",
       "98          semi     Cork         3\n",
       "99          semi     Cork         3"
      ]
     },
     "execution_count": 72,
     "metadata": {},
     "output_type": "execute_result"
    }
   ],
   "source": [
    "Cork"
   ]
  },
  {
   "cell_type": "code",
   "execution_count": 73,
   "metadata": {},
   "outputs": [
    {
     "data": {
      "text/plain": [
       "count    25.0\n",
       "mean      4.0\n",
       "std       1.0\n",
       "min       2.0\n",
       "25%       3.0\n",
       "50%       3.0\n",
       "75%       4.0\n",
       "max       7.0\n",
       "Name: Bedrooms, dtype: float64"
      ]
     },
     "execution_count": 73,
     "metadata": {},
     "output_type": "execute_result"
    }
   ],
   "source": [
    "# Applying descriptive stats to look into the data in more details\n",
    "Cork[\"Bedrooms\"].describe().round(0)"
   ]
  },
  {
   "cell_type": "markdown",
   "metadata": {},
   "source": [
    "Calculating probability of occurence by \"Bedrooms\" value"
   ]
  },
  {
   "cell_type": "code",
   "execution_count": 74,
   "metadata": {},
   "outputs": [],
   "source": [
    "bedrooms_prob_c = Cork.groupby('Bedrooms').size().div(len(Cork)).round(2)\n",
    "\n",
    "# Reference: https://stackoverflow.com/questions/37818063/how-to-calculate-conditional-probability-of-values-in-dataframe-pandas-python"
   ]
  },
  {
   "cell_type": "code",
   "execution_count": 75,
   "metadata": {},
   "outputs": [
    {
     "data": {
      "text/plain": [
       "Bedrooms\n",
       "2    0.12\n",
       "3    0.44\n",
       "4    0.32\n",
       "5    0.08\n",
       "7    0.04\n",
       "dtype: float64"
      ]
     },
     "execution_count": 75,
     "metadata": {},
     "output_type": "execute_result"
    }
   ],
   "source": [
    "bedrooms_prob_c"
   ]
  },
  {
   "cell_type": "markdown",
   "metadata": {},
   "source": [
    "Plotting \"Bedrooms\" value over 100 data points, taking into account probability"
   ]
  },
  {
   "cell_type": "code",
   "execution_count": 77,
   "metadata": {},
   "outputs": [],
   "source": [
    "Property_type_c = [2,3,4,5,7]\n",
    "Cork_bedrooms100 = np.random.choice(Property_type_c, 100, p=[0.12,0.44,0.32,0.08, 0.04])\n",
    "\n",
    "# Reference: https://stackoverflow.com/questions/57435469/how-to-generate-random-categorical-data-in-python-according-to-a-probability-dis\n",
    "# https://docs.scipy.org/doc/numpy-1.15.0/reference/generated/numpy.random.choice.html#numpy.random.choice"
   ]
  },
  {
   "cell_type": "code",
   "execution_count": 78,
   "metadata": {},
   "outputs": [
    {
     "data": {
      "text/plain": [
       "array([4, 2, 3, 5, 3, 3, 3, 4, 5, 4, 3, 4, 3, 3, 4, 3, 3, 2, 3, 3, 3, 2,\n",
       "       2, 4, 3, 2, 5, 5, 4, 3, 7, 3, 7, 3, 3, 3, 3, 4, 7, 3, 3, 4, 4, 2,\n",
       "       3, 4, 3, 2, 3, 2, 2, 3, 4, 5, 4, 7, 3, 2, 3, 4, 4, 4, 3, 3, 4, 3,\n",
       "       4, 2, 2, 3, 2, 3, 3, 2, 4, 3, 3, 3, 3, 5, 3, 4, 2, 5, 4, 7, 3, 7,\n",
       "       3, 4, 2, 4, 2, 3, 3, 2, 4, 3, 4, 3])"
      ]
     },
     "execution_count": 78,
     "metadata": {},
     "output_type": "execute_result"
    }
   ],
   "source": [
    "Cork_bedrooms100"
   ]
  },
  {
   "cell_type": "code",
   "execution_count": 79,
   "metadata": {},
   "outputs": [
    {
     "data": {
      "image/png": "[encoded data removed]",
      "text/plain": [
       "<Figure size 432x288 with 1 Axes>"
      ]
     },
     "metadata": {
      "needs_background": "light"
     },
     "output_type": "display_data"
    }
   ],
   "source": [
    "# Plotting a histogram\n",
    "plt.hist(Cork_bedrooms100);"
   ]
  },
  {
   "cell_type": "code",
   "execution_count": 80,
   "metadata": {},
   "outputs": [
    {
     "data": {
      "text/plain": [
       "count       25\n",
       "unique       5\n",
       "top       semi\n",
       "freq        13\n",
       "Name: Property type, dtype: object"
      ]
     },
     "execution_count": 80,
     "metadata": {},
     "output_type": "execute_result"
    }
   ],
   "source": [
    "# Applying descriptive stats to look into the data in more details\n",
    "Cork[\"Property type\"].describe()"
   ]
  },
  {
   "cell_type": "markdown",
   "metadata": {},
   "source": [
    "##### Calculating probability of \"Property type\" value"
   ]
  },
  {
   "cell_type": "code",
   "execution_count": 81,
   "metadata": {},
   "outputs": [],
   "source": [
    "property_prob_c = Cork.groupby('Property type').size().div(len(Cork)).round(2)\n",
    "\n",
    "# Reference: https://stackoverflow.com/questions/37818063/how-to-calculate-conditional-probability-of-values-in-dataframe-pandas-python"
   ]
  },
  {
   "cell_type": "code",
   "execution_count": 82,
   "metadata": {},
   "outputs": [
    {
     "data": {
      "text/plain": [
       "Property type\n",
       "apartment    0.12\n",
       "detached     0.24\n",
       "duplex       0.08\n",
       "semi         0.52\n",
       "terraced     0.04\n",
       "dtype: float64"
      ]
     },
     "execution_count": 82,
     "metadata": {},
     "output_type": "execute_result"
    }
   ],
   "source": [
    "property_prob_c"
   ]
  },
  {
   "cell_type": "markdown",
   "metadata": {},
   "source": [
    "Plotting \"Property type\" value over 100 data points, taking into account probability"
   ]
  },
  {
   "cell_type": "code",
   "execution_count": 83,
   "metadata": {},
   "outputs": [],
   "source": [
    "Property_type_c = ['apartment', 'detached', 'duplex', 'semi','terraced']\n",
    "Cork_property100 = np.random.choice(Property_type_c, 100, p=[0.12,0.24, 0.08, 0.52, 0.04])\n",
    "\n",
    "# Reference: https://stackoverflow.com/questions/57435469/how-to-generate-random-categorical-data-in-python-according-to-a-probability-dis\n",
    "# https://docs.scipy.org/doc/numpy-1.15.0/reference/generated/numpy.random.choice.html#numpy.random.choice"
   ]
  },
  {
   "cell_type": "code",
   "execution_count": 84,
   "metadata": {},
   "outputs": [
    {
     "data": {
      "text/plain": [
       "array(['semi', 'detached', 'detached', 'detached', 'duplex', 'semi',\n",
       "       'semi', 'detached', 'semi', 'detached', 'semi', 'semi', 'semi',\n",
       "       'apartment', 'apartment', 'semi', 'duplex', 'duplex', 'semi',\n",
       "       'semi', 'detached', 'semi', 'semi', 'semi', 'semi', 'apartment',\n",
       "       'semi', 'semi', 'duplex', 'apartment', 'semi', 'semi', 'semi',\n",
       "       'duplex', 'apartment', 'detached', 'duplex', 'semi', 'semi',\n",
       "       'semi', 'apartment', 'terraced', 'semi', 'semi', 'detached',\n",
       "       'duplex', 'duplex', 'semi', 'semi', 'detached', 'detached', 'semi',\n",
       "       'apartment', 'semi', 'duplex', 'semi', 'semi', 'semi', 'apartment',\n",
       "       'terraced', 'semi', 'semi', 'detached', 'detached', 'apartment',\n",
       "       'semi', 'terraced', 'semi', 'semi', 'semi', 'semi', 'semi', 'semi',\n",
       "       'duplex', 'detached', 'detached', 'semi', 'detached', 'detached',\n",
       "       'detached', 'semi', 'semi', 'apartment', 'detached', 'detached',\n",
       "       'semi', 'duplex', 'detached', 'detached', 'duplex', 'semi', 'semi',\n",
       "       'semi', 'semi', 'semi', 'semi', 'semi', 'semi', 'detached',\n",
       "       'detached'], dtype='<U9')"
      ]
     },
     "execution_count": 84,
     "metadata": {},
     "output_type": "execute_result"
    }
   ],
   "source": [
    "Cork_property100"
   ]
  },
  {
   "cell_type": "code",
   "execution_count": 85,
   "metadata": {},
   "outputs": [
    {
     "data": {
      "text/html": [
       "<div>\n",
       "<style scoped>\n",
       "    .dataframe tbody tr th:only-of-type {\n",
       "        vertical-align: middle;\n",
       "    }\n",
       "\n",
       "    .dataframe tbody tr th {\n",
       "        vertical-align: top;\n",
       "    }\n",
       "\n",
       "    .dataframe thead th {\n",
       "        text-align: right;\n",
       "    }\n",
       "</style>\n",
       "<table border=\"1\" class=\"dataframe\">\n",
       "  <thead>\n",
       "    <tr style=\"text-align: right;\">\n",
       "      <th></th>\n",
       "      <th>Property type</th>\n",
       "      <th>Location</th>\n",
       "      <th>Bedrooms</th>\n",
       "    </tr>\n",
       "  </thead>\n",
       "  <tbody>\n",
       "    <tr>\n",
       "      <th>0</th>\n",
       "      <td>semi</td>\n",
       "      <td>Cork</td>\n",
       "      <td>4</td>\n",
       "    </tr>\n",
       "    <tr>\n",
       "      <th>1</th>\n",
       "      <td>detached</td>\n",
       "      <td>Cork</td>\n",
       "      <td>2</td>\n",
       "    </tr>\n",
       "    <tr>\n",
       "      <th>2</th>\n",
       "      <td>detached</td>\n",
       "      <td>Cork</td>\n",
       "      <td>3</td>\n",
       "    </tr>\n",
       "    <tr>\n",
       "      <th>3</th>\n",
       "      <td>detached</td>\n",
       "      <td>Cork</td>\n",
       "      <td>5</td>\n",
       "    </tr>\n",
       "    <tr>\n",
       "      <th>4</th>\n",
       "      <td>duplex</td>\n",
       "      <td>Cork</td>\n",
       "      <td>3</td>\n",
       "    </tr>\n",
       "    <tr>\n",
       "      <th>...</th>\n",
       "      <td>...</td>\n",
       "      <td>...</td>\n",
       "      <td>...</td>\n",
       "    </tr>\n",
       "    <tr>\n",
       "      <th>95</th>\n",
       "      <td>semi</td>\n",
       "      <td>Cork</td>\n",
       "      <td>2</td>\n",
       "    </tr>\n",
       "    <tr>\n",
       "      <th>96</th>\n",
       "      <td>semi</td>\n",
       "      <td>Cork</td>\n",
       "      <td>4</td>\n",
       "    </tr>\n",
       "    <tr>\n",
       "      <th>97</th>\n",
       "      <td>semi</td>\n",
       "      <td>Cork</td>\n",
       "      <td>3</td>\n",
       "    </tr>\n",
       "    <tr>\n",
       "      <th>98</th>\n",
       "      <td>detached</td>\n",
       "      <td>Cork</td>\n",
       "      <td>4</td>\n",
       "    </tr>\n",
       "    <tr>\n",
       "      <th>99</th>\n",
       "      <td>detached</td>\n",
       "      <td>Cork</td>\n",
       "      <td>3</td>\n",
       "    </tr>\n",
       "  </tbody>\n",
       "</table>\n",
       "<p>100 rows × 3 columns</p>\n",
       "</div>"
      ],
      "text/plain": [
       "   Property type Location  Bedrooms\n",
       "0           semi     Cork         4\n",
       "1       detached     Cork         2\n",
       "2       detached     Cork         3\n",
       "3       detached     Cork         5\n",
       "4         duplex     Cork         3\n",
       "..           ...      ...       ...\n",
       "95          semi     Cork         2\n",
       "96          semi     Cork         4\n",
       "97          semi     Cork         3\n",
       "98      detached     Cork         4\n",
       "99      detached     Cork         3\n",
       "\n",
       "[100 rows x 3 columns]"
      ]
     },
     "execution_count": 85,
     "metadata": {},
     "output_type": "execute_result"
    }
   ],
   "source": [
    "# Creating a data set with that information\n",
    "\n",
    "np.random.seed(40) # Seed reset - the numbers will stay the same at re-run\n",
    "\n",
    "NewDF_c = pd.DataFrame({'Property type':Cork_property100, 'Location':'Cork', 'Bedrooms':Cork_bedrooms100})\n",
    "NewDF_c # Print new data frame"
   ]
  },
  {
   "cell_type": "markdown",
   "metadata": {},
   "source": [
    "Lower end price for an apartment in Cork is about 180,000 euros. Average price for a 3 bedroom house in Cork is about 265,000 euros. Higher end price for a house in Cork is about 590,000 euros.\n",
    "\n",
    "Reference: https://www.daft.ie/property-for-sale/cork/houses\n",
    "https://www.echolive.ie/corknews/Cork-house-prices-drop-by-7-d0cec175-b7d8-42df-a25f-8bb4a48be304-ds#:~:text=According%20to%20that%20latest%20housing,%E2%82%AC265%2C637%2C%20down%207.1%20percent."
   ]
  },
  {
   "cell_type": "markdown",
   "metadata": {},
   "source": [
    "Let us draw 100 samples from a triangular distribution. The triangular distribution is a continuous probability distribution with lower limit left, peak at mode, and upper limit right."
   ]
  },
  {
   "cell_type": "code",
   "execution_count": 86,
   "metadata": {},
   "outputs": [],
   "source": [
    "np.random.seed(259) # Using seed option so that the numbers are the same \n",
    "corkprice = np.random.triangular(180000,265000,600000,100).round(0)\n",
    "\n",
    "# Reference: https://numpy.org/doc/stable/reference/random/generated/numpy.random.triangular.html"
   ]
  },
  {
   "cell_type": "code",
   "execution_count": 87,
   "metadata": {},
   "outputs": [
    {
     "data": {
      "text/plain": [
       "array([391227., 240002., 278667., 467608., 397491., 461315., 436899.,\n",
       "       364268., 468786., 282084., 400929., 284515., 328308., 458092.,\n",
       "       297321., 275635., 367797., 280686., 332746., 381130., 405864.,\n",
       "       244583., 268312., 259828., 523702., 324265., 515759., 302119.,\n",
       "       186259., 474084., 446415., 476346., 426748., 221573., 492412.,\n",
       "       475444., 286825., 385717., 291048., 281916., 275219., 311627.,\n",
       "       282438., 271084., 430393., 299172., 493411., 533621., 284120.,\n",
       "       419267., 196423., 444824., 467614., 352503., 396577., 300768.,\n",
       "       261491., 256097., 452164., 389009., 297889., 231446., 496069.,\n",
       "       239830., 409291., 411318., 313083., 412912., 313872., 360078.,\n",
       "       325515., 269419., 437768., 376102., 287655., 548590., 286678.,\n",
       "       340053., 424327., 358856., 332906., 268046., 291031., 328912.,\n",
       "       293772., 369897., 218863., 423765., 325066., 346617., 411782.,\n",
       "       297982., 289021., 397255., 288412., 423271., 216863., 407476.,\n",
       "       341357., 224099.])"
      ]
     },
     "execution_count": 87,
     "metadata": {},
     "output_type": "execute_result"
    }
   ],
   "source": [
    "corkprice"
   ]
  },
  {
   "cell_type": "markdown",
   "metadata": {},
   "source": [
    "Converting array into dataset"
   ]
  },
  {
   "cell_type": "code",
   "execution_count": 88,
   "metadata": {},
   "outputs": [
    {
     "data": {
      "text/html": [
       "<div>\n",
       "<style scoped>\n",
       "    .dataframe tbody tr th:only-of-type {\n",
       "        vertical-align: middle;\n",
       "    }\n",
       "\n",
       "    .dataframe tbody tr th {\n",
       "        vertical-align: top;\n",
       "    }\n",
       "\n",
       "    .dataframe thead th {\n",
       "        text-align: right;\n",
       "    }\n",
       "</style>\n",
       "<table border=\"1\" class=\"dataframe\">\n",
       "  <thead>\n",
       "    <tr style=\"text-align: right;\">\n",
       "      <th></th>\n",
       "      <th>0</th>\n",
       "    </tr>\n",
       "  </thead>\n",
       "  <tbody>\n",
       "    <tr>\n",
       "      <th>0</th>\n",
       "      <td>391227.0</td>\n",
       "    </tr>\n",
       "    <tr>\n",
       "      <th>1</th>\n",
       "      <td>240002.0</td>\n",
       "    </tr>\n",
       "    <tr>\n",
       "      <th>2</th>\n",
       "      <td>278667.0</td>\n",
       "    </tr>\n",
       "    <tr>\n",
       "      <th>3</th>\n",
       "      <td>467608.0</td>\n",
       "    </tr>\n",
       "    <tr>\n",
       "      <th>4</th>\n",
       "      <td>397491.0</td>\n",
       "    </tr>\n",
       "    <tr>\n",
       "      <th>...</th>\n",
       "      <td>...</td>\n",
       "    </tr>\n",
       "    <tr>\n",
       "      <th>95</th>\n",
       "      <td>423271.0</td>\n",
       "    </tr>\n",
       "    <tr>\n",
       "      <th>96</th>\n",
       "      <td>216863.0</td>\n",
       "    </tr>\n",
       "    <tr>\n",
       "      <th>97</th>\n",
       "      <td>407476.0</td>\n",
       "    </tr>\n",
       "    <tr>\n",
       "      <th>98</th>\n",
       "      <td>341357.0</td>\n",
       "    </tr>\n",
       "    <tr>\n",
       "      <th>99</th>\n",
       "      <td>224099.0</td>\n",
       "    </tr>\n",
       "  </tbody>\n",
       "</table>\n",
       "<p>100 rows × 1 columns</p>\n",
       "</div>"
      ],
      "text/plain": [
       "           0\n",
       "0   391227.0\n",
       "1   240002.0\n",
       "2   278667.0\n",
       "3   467608.0\n",
       "4   397491.0\n",
       "..       ...\n",
       "95  423271.0\n",
       "96  216863.0\n",
       "97  407476.0\n",
       "98  341357.0\n",
       "99  224099.0\n",
       "\n",
       "[100 rows x 1 columns]"
      ]
     },
     "execution_count": 88,
     "metadata": {},
     "output_type": "execute_result"
    }
   ],
   "source": [
    "Price_c = pd.DataFrame(corkprice)\n",
    "Price_c"
   ]
  },
  {
   "cell_type": "markdown",
   "metadata": {},
   "source": [
    "##### Combining all data for Cork together"
   ]
  },
  {
   "cell_type": "code",
   "execution_count": 90,
   "metadata": {},
   "outputs": [],
   "source": [
    "CorkDF = NewDF_c.join(Price_c)\n",
    "\n",
    "# Reference:  https://pandas.pydata.org/pandas-docs/stable/reference/api/pandas.DataFrame.join.html"
   ]
  },
  {
   "cell_type": "code",
   "execution_count": 91,
   "metadata": {},
   "outputs": [
    {
     "data": {
      "text/html": [
       "<div>\n",
       "<style scoped>\n",
       "    .dataframe tbody tr th:only-of-type {\n",
       "        vertical-align: middle;\n",
       "    }\n",
       "\n",
       "    .dataframe tbody tr th {\n",
       "        vertical-align: top;\n",
       "    }\n",
       "\n",
       "    .dataframe thead th {\n",
       "        text-align: right;\n",
       "    }\n",
       "</style>\n",
       "<table border=\"1\" class=\"dataframe\">\n",
       "  <thead>\n",
       "    <tr style=\"text-align: right;\">\n",
       "      <th></th>\n",
       "      <th>Property type</th>\n",
       "      <th>Location</th>\n",
       "      <th>Bedrooms</th>\n",
       "      <th>0</th>\n",
       "    </tr>\n",
       "  </thead>\n",
       "  <tbody>\n",
       "    <tr>\n",
       "      <th>0</th>\n",
       "      <td>semi</td>\n",
       "      <td>Cork</td>\n",
       "      <td>4</td>\n",
       "      <td>391227.0</td>\n",
       "    </tr>\n",
       "    <tr>\n",
       "      <th>1</th>\n",
       "      <td>detached</td>\n",
       "      <td>Cork</td>\n",
       "      <td>2</td>\n",
       "      <td>240002.0</td>\n",
       "    </tr>\n",
       "    <tr>\n",
       "      <th>2</th>\n",
       "      <td>detached</td>\n",
       "      <td>Cork</td>\n",
       "      <td>3</td>\n",
       "      <td>278667.0</td>\n",
       "    </tr>\n",
       "    <tr>\n",
       "      <th>3</th>\n",
       "      <td>detached</td>\n",
       "      <td>Cork</td>\n",
       "      <td>5</td>\n",
       "      <td>467608.0</td>\n",
       "    </tr>\n",
       "    <tr>\n",
       "      <th>4</th>\n",
       "      <td>duplex</td>\n",
       "      <td>Cork</td>\n",
       "      <td>3</td>\n",
       "      <td>397491.0</td>\n",
       "    </tr>\n",
       "    <tr>\n",
       "      <th>...</th>\n",
       "      <td>...</td>\n",
       "      <td>...</td>\n",
       "      <td>...</td>\n",
       "      <td>...</td>\n",
       "    </tr>\n",
       "    <tr>\n",
       "      <th>95</th>\n",
       "      <td>semi</td>\n",
       "      <td>Cork</td>\n",
       "      <td>2</td>\n",
       "      <td>423271.0</td>\n",
       "    </tr>\n",
       "    <tr>\n",
       "      <th>96</th>\n",
       "      <td>semi</td>\n",
       "      <td>Cork</td>\n",
       "      <td>4</td>\n",
       "      <td>216863.0</td>\n",
       "    </tr>\n",
       "    <tr>\n",
       "      <th>97</th>\n",
       "      <td>semi</td>\n",
       "      <td>Cork</td>\n",
       "      <td>3</td>\n",
       "      <td>407476.0</td>\n",
       "    </tr>\n",
       "    <tr>\n",
       "      <th>98</th>\n",
       "      <td>detached</td>\n",
       "      <td>Cork</td>\n",
       "      <td>4</td>\n",
       "      <td>341357.0</td>\n",
       "    </tr>\n",
       "    <tr>\n",
       "      <th>99</th>\n",
       "      <td>detached</td>\n",
       "      <td>Cork</td>\n",
       "      <td>3</td>\n",
       "      <td>224099.0</td>\n",
       "    </tr>\n",
       "  </tbody>\n",
       "</table>\n",
       "<p>100 rows × 4 columns</p>\n",
       "</div>"
      ],
      "text/plain": [
       "   Property type Location  Bedrooms         0\n",
       "0           semi     Cork         4  391227.0\n",
       "1       detached     Cork         2  240002.0\n",
       "2       detached     Cork         3  278667.0\n",
       "3       detached     Cork         5  467608.0\n",
       "4         duplex     Cork         3  397491.0\n",
       "..           ...      ...       ...       ...\n",
       "95          semi     Cork         2  423271.0\n",
       "96          semi     Cork         4  216863.0\n",
       "97          semi     Cork         3  407476.0\n",
       "98      detached     Cork         4  341357.0\n",
       "99      detached     Cork         3  224099.0\n",
       "\n",
       "[100 rows x 4 columns]"
      ]
     },
     "execution_count": 91,
     "metadata": {},
     "output_type": "execute_result"
    }
   ],
   "source": [
    "CorkDF"
   ]
  },
  {
   "cell_type": "markdown",
   "metadata": {},
   "source": [
    "Giving a name \"Price\" to a newly added column"
   ]
  },
  {
   "cell_type": "code",
   "execution_count": 92,
   "metadata": {},
   "outputs": [
    {
     "data": {
      "text/html": [
       "<div>\n",
       "<style scoped>\n",
       "    .dataframe tbody tr th:only-of-type {\n",
       "        vertical-align: middle;\n",
       "    }\n",
       "\n",
       "    .dataframe tbody tr th {\n",
       "        vertical-align: top;\n",
       "    }\n",
       "\n",
       "    .dataframe thead th {\n",
       "        text-align: right;\n",
       "    }\n",
       "</style>\n",
       "<table border=\"1\" class=\"dataframe\">\n",
       "  <thead>\n",
       "    <tr style=\"text-align: right;\">\n",
       "      <th></th>\n",
       "      <th>Property type</th>\n",
       "      <th>Location</th>\n",
       "      <th>Bedrooms</th>\n",
       "      <th>Price</th>\n",
       "    </tr>\n",
       "  </thead>\n",
       "  <tbody>\n",
       "    <tr>\n",
       "      <th>0</th>\n",
       "      <td>semi</td>\n",
       "      <td>Cork</td>\n",
       "      <td>4</td>\n",
       "      <td>391227.0</td>\n",
       "    </tr>\n",
       "    <tr>\n",
       "      <th>1</th>\n",
       "      <td>detached</td>\n",
       "      <td>Cork</td>\n",
       "      <td>2</td>\n",
       "      <td>240002.0</td>\n",
       "    </tr>\n",
       "    <tr>\n",
       "      <th>2</th>\n",
       "      <td>detached</td>\n",
       "      <td>Cork</td>\n",
       "      <td>3</td>\n",
       "      <td>278667.0</td>\n",
       "    </tr>\n",
       "    <tr>\n",
       "      <th>3</th>\n",
       "      <td>detached</td>\n",
       "      <td>Cork</td>\n",
       "      <td>5</td>\n",
       "      <td>467608.0</td>\n",
       "    </tr>\n",
       "    <tr>\n",
       "      <th>4</th>\n",
       "      <td>duplex</td>\n",
       "      <td>Cork</td>\n",
       "      <td>3</td>\n",
       "      <td>397491.0</td>\n",
       "    </tr>\n",
       "    <tr>\n",
       "      <th>...</th>\n",
       "      <td>...</td>\n",
       "      <td>...</td>\n",
       "      <td>...</td>\n",
       "      <td>...</td>\n",
       "    </tr>\n",
       "    <tr>\n",
       "      <th>95</th>\n",
       "      <td>semi</td>\n",
       "      <td>Cork</td>\n",
       "      <td>2</td>\n",
       "      <td>423271.0</td>\n",
       "    </tr>\n",
       "    <tr>\n",
       "      <th>96</th>\n",
       "      <td>semi</td>\n",
       "      <td>Cork</td>\n",
       "      <td>4</td>\n",
       "      <td>216863.0</td>\n",
       "    </tr>\n",
       "    <tr>\n",
       "      <th>97</th>\n",
       "      <td>semi</td>\n",
       "      <td>Cork</td>\n",
       "      <td>3</td>\n",
       "      <td>407476.0</td>\n",
       "    </tr>\n",
       "    <tr>\n",
       "      <th>98</th>\n",
       "      <td>detached</td>\n",
       "      <td>Cork</td>\n",
       "      <td>4</td>\n",
       "      <td>341357.0</td>\n",
       "    </tr>\n",
       "    <tr>\n",
       "      <th>99</th>\n",
       "      <td>detached</td>\n",
       "      <td>Cork</td>\n",
       "      <td>3</td>\n",
       "      <td>224099.0</td>\n",
       "    </tr>\n",
       "  </tbody>\n",
       "</table>\n",
       "<p>100 rows × 4 columns</p>\n",
       "</div>"
      ],
      "text/plain": [
       "   Property type Location  Bedrooms     Price\n",
       "0           semi     Cork         4  391227.0\n",
       "1       detached     Cork         2  240002.0\n",
       "2       detached     Cork         3  278667.0\n",
       "3       detached     Cork         5  467608.0\n",
       "4         duplex     Cork         3  397491.0\n",
       "..           ...      ...       ...       ...\n",
       "95          semi     Cork         2  423271.0\n",
       "96          semi     Cork         4  216863.0\n",
       "97          semi     Cork         3  407476.0\n",
       "98      detached     Cork         4  341357.0\n",
       "99      detached     Cork         3  224099.0\n",
       "\n",
       "[100 rows x 4 columns]"
      ]
     },
     "execution_count": 92,
     "metadata": {},
     "output_type": "execute_result"
    }
   ],
   "source": [
    "CorkDF.rename(columns={0: 'Price'})"
   ]
  },
  {
   "cell_type": "markdown",
   "metadata": {},
   "source": [
    "## Galway\n",
    "\n",
    "*****"
   ]
  },
  {
   "cell_type": "code",
   "execution_count": 93,
   "metadata": {},
   "outputs": [],
   "source": [
    "Galway = df_new.loc[(df_new['Location'] == \"Galway\")]"
   ]
  },
  {
   "cell_type": "code",
   "execution_count": 94,
   "metadata": {},
   "outputs": [
    {
     "data": {
      "text/html": [
       "<div>\n",
       "<style scoped>\n",
       "    .dataframe tbody tr th:only-of-type {\n",
       "        vertical-align: middle;\n",
       "    }\n",
       "\n",
       "    .dataframe tbody tr th {\n",
       "        vertical-align: top;\n",
       "    }\n",
       "\n",
       "    .dataframe thead th {\n",
       "        text-align: right;\n",
       "    }\n",
       "</style>\n",
       "<table border=\"1\" class=\"dataframe\">\n",
       "  <thead>\n",
       "    <tr style=\"text-align: right;\">\n",
       "      <th></th>\n",
       "      <th>Property type</th>\n",
       "      <th>Location</th>\n",
       "      <th>Bedrooms</th>\n",
       "    </tr>\n",
       "  </thead>\n",
       "  <tbody>\n",
       "    <tr>\n",
       "      <th>57</th>\n",
       "      <td>apartment</td>\n",
       "      <td>Galway</td>\n",
       "      <td>2</td>\n",
       "    </tr>\n",
       "    <tr>\n",
       "      <th>58</th>\n",
       "      <td>semi</td>\n",
       "      <td>Galway</td>\n",
       "      <td>3</td>\n",
       "    </tr>\n",
       "    <tr>\n",
       "      <th>59</th>\n",
       "      <td>semi</td>\n",
       "      <td>Galway</td>\n",
       "      <td>3</td>\n",
       "    </tr>\n",
       "    <tr>\n",
       "      <th>60</th>\n",
       "      <td>semi</td>\n",
       "      <td>Galway</td>\n",
       "      <td>4</td>\n",
       "    </tr>\n",
       "    <tr>\n",
       "      <th>61</th>\n",
       "      <td>apartment</td>\n",
       "      <td>Galway</td>\n",
       "      <td>2</td>\n",
       "    </tr>\n",
       "    <tr>\n",
       "      <th>62</th>\n",
       "      <td>semi</td>\n",
       "      <td>Galway</td>\n",
       "      <td>3</td>\n",
       "    </tr>\n",
       "    <tr>\n",
       "      <th>63</th>\n",
       "      <td>semi</td>\n",
       "      <td>Galway</td>\n",
       "      <td>3</td>\n",
       "    </tr>\n",
       "    <tr>\n",
       "      <th>64</th>\n",
       "      <td>semi</td>\n",
       "      <td>Galway</td>\n",
       "      <td>4</td>\n",
       "    </tr>\n",
       "    <tr>\n",
       "      <th>65</th>\n",
       "      <td>semi</td>\n",
       "      <td>Galway</td>\n",
       "      <td>5</td>\n",
       "    </tr>\n",
       "    <tr>\n",
       "      <th>66</th>\n",
       "      <td>semi</td>\n",
       "      <td>Galway</td>\n",
       "      <td>3</td>\n",
       "    </tr>\n",
       "    <tr>\n",
       "      <th>67</th>\n",
       "      <td>detached</td>\n",
       "      <td>Galway</td>\n",
       "      <td>4</td>\n",
       "    </tr>\n",
       "    <tr>\n",
       "      <th>68</th>\n",
       "      <td>detached</td>\n",
       "      <td>Galway</td>\n",
       "      <td>4</td>\n",
       "    </tr>\n",
       "    <tr>\n",
       "      <th>69</th>\n",
       "      <td>detached</td>\n",
       "      <td>Galway</td>\n",
       "      <td>4</td>\n",
       "    </tr>\n",
       "    <tr>\n",
       "      <th>70</th>\n",
       "      <td>detached</td>\n",
       "      <td>Galway</td>\n",
       "      <td>6</td>\n",
       "    </tr>\n",
       "    <tr>\n",
       "      <th>71</th>\n",
       "      <td>terraced</td>\n",
       "      <td>Galway</td>\n",
       "      <td>3</td>\n",
       "    </tr>\n",
       "    <tr>\n",
       "      <th>72</th>\n",
       "      <td>semi</td>\n",
       "      <td>Galway</td>\n",
       "      <td>4</td>\n",
       "    </tr>\n",
       "    <tr>\n",
       "      <th>73</th>\n",
       "      <td>apartment</td>\n",
       "      <td>Galway</td>\n",
       "      <td>2</td>\n",
       "    </tr>\n",
       "    <tr>\n",
       "      <th>74</th>\n",
       "      <td>detached</td>\n",
       "      <td>Galway</td>\n",
       "      <td>4</td>\n",
       "    </tr>\n",
       "  </tbody>\n",
       "</table>\n",
       "</div>"
      ],
      "text/plain": [
       "   Property type Location  Bedrooms\n",
       "57     apartment   Galway         2\n",
       "58          semi   Galway         3\n",
       "59          semi   Galway         3\n",
       "60          semi   Galway         4\n",
       "61     apartment   Galway         2\n",
       "62          semi   Galway         3\n",
       "63          semi   Galway         3\n",
       "64          semi   Galway         4\n",
       "65          semi   Galway         5\n",
       "66          semi   Galway         3\n",
       "67      detached   Galway         4\n",
       "68      detached   Galway         4\n",
       "69      detached   Galway         4\n",
       "70      detached   Galway         6\n",
       "71      terraced   Galway         3\n",
       "72          semi   Galway         4\n",
       "73     apartment   Galway         2\n",
       "74      detached   Galway         4"
      ]
     },
     "execution_count": 94,
     "metadata": {},
     "output_type": "execute_result"
    }
   ],
   "source": [
    "Galway"
   ]
  },
  {
   "cell_type": "code",
   "execution_count": 95,
   "metadata": {},
   "outputs": [
    {
     "data": {
      "text/plain": [
       "count    18.0\n",
       "mean      4.0\n",
       "std       1.0\n",
       "min       2.0\n",
       "25%       3.0\n",
       "50%       4.0\n",
       "75%       4.0\n",
       "max       6.0\n",
       "Name: Bedrooms, dtype: float64"
      ]
     },
     "execution_count": 95,
     "metadata": {},
     "output_type": "execute_result"
    }
   ],
   "source": [
    "# Applying descriptive stats to look into the data in more details\n",
    "Galway[\"Bedrooms\"].describe().round(0)"
   ]
  },
  {
   "cell_type": "markdown",
   "metadata": {},
   "source": [
    "Calculating probability of occurence by \"Bedrooms\" value"
   ]
  },
  {
   "cell_type": "code",
   "execution_count": 96,
   "metadata": {},
   "outputs": [],
   "source": [
    "bedrooms_prob_g = Galway.groupby('Bedrooms').size().div(len(Galway)).round(2)\n",
    "\n",
    "# Reference: https://stackoverflow.com/questions/37818063/how-to-calculate-conditional-probability-of-values-in-dataframe-pandas-python"
   ]
  },
  {
   "cell_type": "code",
   "execution_count": 97,
   "metadata": {},
   "outputs": [
    {
     "data": {
      "text/plain": [
       "Bedrooms\n",
       "2    0.17\n",
       "3    0.33\n",
       "4    0.39\n",
       "5    0.06\n",
       "6    0.06\n",
       "dtype: float64"
      ]
     },
     "execution_count": 97,
     "metadata": {},
     "output_type": "execute_result"
    }
   ],
   "source": [
    "bedrooms_prob_g"
   ]
  },
  {
   "cell_type": "markdown",
   "metadata": {},
   "source": [
    "Plotting \"Bedrooms\" value over 100 data points, taking into account probability"
   ]
  },
  {
   "cell_type": "code",
   "execution_count": 98,
   "metadata": {},
   "outputs": [],
   "source": [
    "Property_type_g = [2,3,4,5,6]\n",
    "Galway_bedrooms100 = np.random.choice(Property_type_c, 100, p=[0.17,0.33,0.38,0.06, 0.06])\n",
    "\n",
    "# Reference: https://stackoverflow.com/questions/57435469/how-to-generate-random-categorical-data-in-python-according-to-a-probability-dis\n",
    "# https://docs.scipy.org/doc/numpy-1.15.0/reference/generated/numpy.random.choice.html#numpy.random.choice"
   ]
  },
  {
   "cell_type": "code",
   "execution_count": 99,
   "metadata": {},
   "outputs": [
    {
     "data": {
      "text/plain": [
       "array(['duplex', 'detached', 'duplex', 'detached', 'detached',\n",
       "       'apartment', 'apartment', 'apartment', 'semi', 'duplex',\n",
       "       'apartment', 'semi', 'duplex', 'terraced', 'terraced', 'detached',\n",
       "       'detached', 'duplex', 'semi', 'duplex', 'duplex', 'duplex',\n",
       "       'detached', 'semi', 'detached', 'duplex', 'detached', 'apartment',\n",
       "       'detached', 'terraced', 'apartment', 'duplex', 'duplex', 'duplex',\n",
       "       'apartment', 'duplex', 'semi', 'detached', 'detached', 'duplex',\n",
       "       'duplex', 'apartment', 'detached', 'semi', 'duplex', 'detached',\n",
       "       'semi', 'apartment', 'duplex', 'duplex', 'detached', 'detached',\n",
       "       'duplex', 'duplex', 'duplex', 'duplex', 'detached', 'terraced',\n",
       "       'detached', 'detached', 'duplex', 'apartment', 'duplex',\n",
       "       'detached', 'apartment', 'detached', 'terraced', 'terraced',\n",
       "       'terraced', 'duplex', 'duplex', 'terraced', 'detached', 'duplex',\n",
       "       'duplex', 'duplex', 'detached', 'duplex', 'duplex', 'duplex',\n",
       "       'apartment', 'terraced', 'semi', 'detached', 'detached',\n",
       "       'terraced', 'detached', 'duplex', 'detached', 'terraced', 'duplex',\n",
       "       'detached', 'apartment', 'semi', 'detached', 'duplex', 'detached',\n",
       "       'detached', 'duplex', 'apartment'], dtype='<U9')"
      ]
     },
     "execution_count": 99,
     "metadata": {},
     "output_type": "execute_result"
    }
   ],
   "source": [
    "Galway_bedrooms100"
   ]
  },
  {
   "cell_type": "code",
   "execution_count": 100,
   "metadata": {},
   "outputs": [
    {
     "data": {
      "image/png": "[encoded data removed]",
      "text/plain": [
       "<Figure size 432x288 with 1 Axes>"
      ]
     },
     "metadata": {
      "needs_background": "light"
     },
     "output_type": "display_data"
    }
   ],
   "source": [
    "# Plotting a histogram\n",
    "plt.hist(Galway_bedrooms100);"
   ]
  },
  {
   "cell_type": "code",
   "execution_count": 101,
   "metadata": {},
   "outputs": [
    {
     "data": {
      "text/plain": [
       "count       18\n",
       "unique       4\n",
       "top       semi\n",
       "freq         9\n",
       "Name: Property type, dtype: object"
      ]
     },
     "execution_count": 101,
     "metadata": {},
     "output_type": "execute_result"
    }
   ],
   "source": [
    "# Applying descriptive stats to look into the data in more details\n",
    "Galway[\"Property type\"].describe()"
   ]
  },
  {
   "cell_type": "markdown",
   "metadata": {},
   "source": [
    "##### Calculating probability of \"Property type\" value"
   ]
  },
  {
   "cell_type": "code",
   "execution_count": 102,
   "metadata": {},
   "outputs": [],
   "source": [
    "property_prob_g = Galway.groupby('Property type').size().div(len(Galway)).round(2)\n",
    "\n",
    "# Reference: https://stackoverflow.com/questions/37818063/how-to-calculate-conditional-probability-of-values-in-dataframe-pandas-python"
   ]
  },
  {
   "cell_type": "code",
   "execution_count": 103,
   "metadata": {},
   "outputs": [
    {
     "data": {
      "text/plain": [
       "Property type\n",
       "apartment    0.17\n",
       "detached     0.28\n",
       "semi         0.50\n",
       "terraced     0.06\n",
       "dtype: float64"
      ]
     },
     "execution_count": 103,
     "metadata": {},
     "output_type": "execute_result"
    }
   ],
   "source": [
    "property_prob_g"
   ]
  },
  {
   "cell_type": "markdown",
   "metadata": {},
   "source": [
    "Plotting \"Property type\" value over 100 data points, taking into account probability"
   ]
  },
  {
   "cell_type": "code",
   "execution_count": 104,
   "metadata": {},
   "outputs": [],
   "source": [
    "Property_type_g = ['apartment', 'detached', 'semi','terraced']\n",
    "Galway_property100 = np.random.choice(Property_type_g, 100, p=[0.17,0.28, 0.49, 0.06])\n",
    "\n",
    "# Reference: https://stackoverflow.com/questions/57435469/how-to-generate-random-categorical-data-in-python-according-to-a-probability-dis\n",
    "# https://docs.scipy.org/doc/numpy-1.15.0/reference/generated/numpy.random.choice.html#numpy.random.choice"
   ]
  },
  {
   "cell_type": "code",
   "execution_count": 105,
   "metadata": {},
   "outputs": [
    {
     "data": {
      "text/plain": [
       "array(['semi', 'apartment', 'apartment', 'semi', 'semi', 'semi',\n",
       "       'terraced', 'detached', 'semi', 'semi', 'semi', 'detached', 'semi',\n",
       "       'semi', 'apartment', 'detached', 'apartment', 'apartment', 'semi',\n",
       "       'detached', 'semi', 'apartment', 'apartment', 'semi', 'semi',\n",
       "       'detached', 'semi', 'semi', 'apartment', 'detached', 'semi',\n",
       "       'detached', 'detached', 'semi', 'semi', 'semi', 'detached', 'semi',\n",
       "       'detached', 'semi', 'semi', 'detached', 'detached', 'semi',\n",
       "       'detached', 'semi', 'semi', 'terraced', 'semi', 'detached',\n",
       "       'terraced', 'apartment', 'semi', 'semi', 'detached', 'semi',\n",
       "       'detached', 'detached', 'detached', 'semi', 'apartment', 'semi',\n",
       "       'semi', 'apartment', 'semi', 'semi', 'semi', 'detached', 'semi',\n",
       "       'detached', 'detached', 'semi', 'apartment', 'semi', 'detached',\n",
       "       'semi', 'semi', 'detached', 'semi', 'semi', 'detached', 'semi',\n",
       "       'semi', 'detached', 'semi', 'semi', 'terraced', 'semi', 'detached',\n",
       "       'detached', 'semi', 'detached', 'semi', 'detached', 'semi',\n",
       "       'apartment', 'detached', 'semi', 'semi', 'semi'], dtype='<U9')"
      ]
     },
     "execution_count": 105,
     "metadata": {},
     "output_type": "execute_result"
    }
   ],
   "source": [
    "Galway_property100"
   ]
  },
  {
   "cell_type": "code",
   "execution_count": 106,
   "metadata": {},
   "outputs": [
    {
     "data": {
      "text/html": [
       "<div>\n",
       "<style scoped>\n",
       "    .dataframe tbody tr th:only-of-type {\n",
       "        vertical-align: middle;\n",
       "    }\n",
       "\n",
       "    .dataframe tbody tr th {\n",
       "        vertical-align: top;\n",
       "    }\n",
       "\n",
       "    .dataframe thead th {\n",
       "        text-align: right;\n",
       "    }\n",
       "</style>\n",
       "<table border=\"1\" class=\"dataframe\">\n",
       "  <thead>\n",
       "    <tr style=\"text-align: right;\">\n",
       "      <th></th>\n",
       "      <th>Property type</th>\n",
       "      <th>Location</th>\n",
       "      <th>Bedrooms</th>\n",
       "    </tr>\n",
       "  </thead>\n",
       "  <tbody>\n",
       "    <tr>\n",
       "      <th>0</th>\n",
       "      <td>semi</td>\n",
       "      <td>Galway</td>\n",
       "      <td>duplex</td>\n",
       "    </tr>\n",
       "    <tr>\n",
       "      <th>1</th>\n",
       "      <td>apartment</td>\n",
       "      <td>Galway</td>\n",
       "      <td>detached</td>\n",
       "    </tr>\n",
       "    <tr>\n",
       "      <th>2</th>\n",
       "      <td>apartment</td>\n",
       "      <td>Galway</td>\n",
       "      <td>duplex</td>\n",
       "    </tr>\n",
       "    <tr>\n",
       "      <th>3</th>\n",
       "      <td>semi</td>\n",
       "      <td>Galway</td>\n",
       "      <td>detached</td>\n",
       "    </tr>\n",
       "    <tr>\n",
       "      <th>4</th>\n",
       "      <td>semi</td>\n",
       "      <td>Galway</td>\n",
       "      <td>detached</td>\n",
       "    </tr>\n",
       "    <tr>\n",
       "      <th>...</th>\n",
       "      <td>...</td>\n",
       "      <td>...</td>\n",
       "      <td>...</td>\n",
       "    </tr>\n",
       "    <tr>\n",
       "      <th>95</th>\n",
       "      <td>apartment</td>\n",
       "      <td>Galway</td>\n",
       "      <td>duplex</td>\n",
       "    </tr>\n",
       "    <tr>\n",
       "      <th>96</th>\n",
       "      <td>detached</td>\n",
       "      <td>Galway</td>\n",
       "      <td>detached</td>\n",
       "    </tr>\n",
       "    <tr>\n",
       "      <th>97</th>\n",
       "      <td>semi</td>\n",
       "      <td>Galway</td>\n",
       "      <td>detached</td>\n",
       "    </tr>\n",
       "    <tr>\n",
       "      <th>98</th>\n",
       "      <td>semi</td>\n",
       "      <td>Galway</td>\n",
       "      <td>duplex</td>\n",
       "    </tr>\n",
       "    <tr>\n",
       "      <th>99</th>\n",
       "      <td>semi</td>\n",
       "      <td>Galway</td>\n",
       "      <td>apartment</td>\n",
       "    </tr>\n",
       "  </tbody>\n",
       "</table>\n",
       "<p>100 rows × 3 columns</p>\n",
       "</div>"
      ],
      "text/plain": [
       "   Property type Location   Bedrooms\n",
       "0           semi   Galway     duplex\n",
       "1      apartment   Galway   detached\n",
       "2      apartment   Galway     duplex\n",
       "3           semi   Galway   detached\n",
       "4           semi   Galway   detached\n",
       "..           ...      ...        ...\n",
       "95     apartment   Galway     duplex\n",
       "96      detached   Galway   detached\n",
       "97          semi   Galway   detached\n",
       "98          semi   Galway     duplex\n",
       "99          semi   Galway  apartment\n",
       "\n",
       "[100 rows x 3 columns]"
      ]
     },
     "execution_count": 106,
     "metadata": {},
     "output_type": "execute_result"
    }
   ],
   "source": [
    "# Creating a data set with that information\n",
    "\n",
    "np.random.seed(20) # Seed reset - the numbers will stay the same at re-run\n",
    "\n",
    "NewDF_g = pd.DataFrame({'Property type':Galway_property100, 'Location':'Galway', 'Bedrooms':Galway_bedrooms100})\n",
    "NewDF_g # Print new data frame"
   ]
  },
  {
   "cell_type": "markdown",
   "metadata": {},
   "source": [
    "Lower end price for an apartment in Galway is about 190,000 euros. Average price for a 3 bedroom house in Galway is about 306,000 euros. Higher end price for a house in Galway is about 610,000 euros.\n",
    "\n",
    "Reference: https://www.google.com/search?q=galway+house+prices&oq=galway+house+prices&aqs=chrome..69i57j0j0i22i30l6.9103j0j4&sourceid=chrome&ie=UTF-8"
   ]
  },
  {
   "cell_type": "markdown",
   "metadata": {},
   "source": [
    "Let us draw 100 samples from a triangular distribution. The triangular distribution is a continuous probability distribution with lower limit left, peak at mode, and upper limit right."
   ]
  },
  {
   "cell_type": "code",
   "execution_count": 107,
   "metadata": {},
   "outputs": [],
   "source": [
    "np.random.seed(25) # Using seed option so that the numbers are the same \n",
    "galwayprice = np.random.triangular(190000,306000,610000,100).round(0)\n",
    "\n",
    "# Reference: https://numpy.org/doc/stable/reference/random/generated/numpy.random.triangular.html"
   ]
  },
  {
   "cell_type": "code",
   "execution_count": 108,
   "metadata": {},
   "outputs": [
    {
     "data": {
      "text/plain": [
       "array([481227., 379057., 306557., 285171., 335791., 265621., 409443.,\n",
       "       342034., 371965., 325727., 333765., 264211., 344288., 379934.,\n",
       "       278836., 362625., 316658., 414021., 325573., 465460., 352663.,\n",
       "       361539., 329336., 592281., 360959., 372724., 230968., 420899.,\n",
       "       338106., 341873., 307159., 497160., 404613., 346468., 308872.,\n",
       "       363944., 372774., 429661., 461957., 459964., 251305., 397059.,\n",
       "       313025., 363538., 536851., 487882., 310068., 360481., 255739.,\n",
       "       396118., 270321., 437330., 251146., 317746., 407821., 359673.,\n",
       "       400164., 384609., 420603., 336751., 332422., 460580., 418424.,\n",
       "       259076., 468036., 342800., 327283., 505015., 369709., 300790.,\n",
       "       226586., 290244., 381449., 279292., 465705., 440583., 280751.,\n",
       "       437518., 318692., 350454., 292362., 504057., 434659., 406784.,\n",
       "       222272., 401915., 257831., 463176., 264116., 374825., 282238.,\n",
       "       446491., 230510., 448599., 410870., 355282., 255684., 520705.,\n",
       "       254110., 349716.])"
      ]
     },
     "execution_count": 108,
     "metadata": {},
     "output_type": "execute_result"
    }
   ],
   "source": [
    "galwayprice"
   ]
  },
  {
   "cell_type": "markdown",
   "metadata": {},
   "source": [
    "Converting array into dataset"
   ]
  },
  {
   "cell_type": "code",
   "execution_count": 109,
   "metadata": {},
   "outputs": [
    {
     "data": {
      "text/html": [
       "<div>\n",
       "<style scoped>\n",
       "    .dataframe tbody tr th:only-of-type {\n",
       "        vertical-align: middle;\n",
       "    }\n",
       "\n",
       "    .dataframe tbody tr th {\n",
       "        vertical-align: top;\n",
       "    }\n",
       "\n",
       "    .dataframe thead th {\n",
       "        text-align: right;\n",
       "    }\n",
       "</style>\n",
       "<table border=\"1\" class=\"dataframe\">\n",
       "  <thead>\n",
       "    <tr style=\"text-align: right;\">\n",
       "      <th></th>\n",
       "      <th>0</th>\n",
       "    </tr>\n",
       "  </thead>\n",
       "  <tbody>\n",
       "    <tr>\n",
       "      <th>0</th>\n",
       "      <td>481227.0</td>\n",
       "    </tr>\n",
       "    <tr>\n",
       "      <th>1</th>\n",
       "      <td>379057.0</td>\n",
       "    </tr>\n",
       "    <tr>\n",
       "      <th>2</th>\n",
       "      <td>306557.0</td>\n",
       "    </tr>\n",
       "    <tr>\n",
       "      <th>3</th>\n",
       "      <td>285171.0</td>\n",
       "    </tr>\n",
       "    <tr>\n",
       "      <th>4</th>\n",
       "      <td>335791.0</td>\n",
       "    </tr>\n",
       "    <tr>\n",
       "      <th>...</th>\n",
       "      <td>...</td>\n",
       "    </tr>\n",
       "    <tr>\n",
       "      <th>95</th>\n",
       "      <td>355282.0</td>\n",
       "    </tr>\n",
       "    <tr>\n",
       "      <th>96</th>\n",
       "      <td>255684.0</td>\n",
       "    </tr>\n",
       "    <tr>\n",
       "      <th>97</th>\n",
       "      <td>520705.0</td>\n",
       "    </tr>\n",
       "    <tr>\n",
       "      <th>98</th>\n",
       "      <td>254110.0</td>\n",
       "    </tr>\n",
       "    <tr>\n",
       "      <th>99</th>\n",
       "      <td>349716.0</td>\n",
       "    </tr>\n",
       "  </tbody>\n",
       "</table>\n",
       "<p>100 rows × 1 columns</p>\n",
       "</div>"
      ],
      "text/plain": [
       "           0\n",
       "0   481227.0\n",
       "1   379057.0\n",
       "2   306557.0\n",
       "3   285171.0\n",
       "4   335791.0\n",
       "..       ...\n",
       "95  355282.0\n",
       "96  255684.0\n",
       "97  520705.0\n",
       "98  254110.0\n",
       "99  349716.0\n",
       "\n",
       "[100 rows x 1 columns]"
      ]
     },
     "execution_count": 109,
     "metadata": {},
     "output_type": "execute_result"
    }
   ],
   "source": [
    "Price_g = pd.DataFrame(galwayprice)\n",
    "Price_g"
   ]
  },
  {
   "cell_type": "markdown",
   "metadata": {},
   "source": [
    "#### Combining all data for Galway together"
   ]
  },
  {
   "cell_type": "code",
   "execution_count": 110,
   "metadata": {},
   "outputs": [],
   "source": [
    "GalwayDF = NewDF_g.join(Price_g)\n",
    "\n",
    "# Reference:  https://pandas.pydata.org/pandas-docs/stable/reference/api/pandas.DataFrame.join.html"
   ]
  },
  {
   "cell_type": "code",
   "execution_count": 111,
   "metadata": {},
   "outputs": [
    {
     "data": {
      "text/html": [
       "<div>\n",
       "<style scoped>\n",
       "    .dataframe tbody tr th:only-of-type {\n",
       "        vertical-align: middle;\n",
       "    }\n",
       "\n",
       "    .dataframe tbody tr th {\n",
       "        vertical-align: top;\n",
       "    }\n",
       "\n",
       "    .dataframe thead th {\n",
       "        text-align: right;\n",
       "    }\n",
       "</style>\n",
       "<table border=\"1\" class=\"dataframe\">\n",
       "  <thead>\n",
       "    <tr style=\"text-align: right;\">\n",
       "      <th></th>\n",
       "      <th>Property type</th>\n",
       "      <th>Location</th>\n",
       "      <th>Bedrooms</th>\n",
       "      <th>0</th>\n",
       "    </tr>\n",
       "  </thead>\n",
       "  <tbody>\n",
       "    <tr>\n",
       "      <th>0</th>\n",
       "      <td>semi</td>\n",
       "      <td>Galway</td>\n",
       "      <td>duplex</td>\n",
       "      <td>481227.0</td>\n",
       "    </tr>\n",
       "    <tr>\n",
       "      <th>1</th>\n",
       "      <td>apartment</td>\n",
       "      <td>Galway</td>\n",
       "      <td>detached</td>\n",
       "      <td>379057.0</td>\n",
       "    </tr>\n",
       "    <tr>\n",
       "      <th>2</th>\n",
       "      <td>apartment</td>\n",
       "      <td>Galway</td>\n",
       "      <td>duplex</td>\n",
       "      <td>306557.0</td>\n",
       "    </tr>\n",
       "    <tr>\n",
       "      <th>3</th>\n",
       "      <td>semi</td>\n",
       "      <td>Galway</td>\n",
       "      <td>detached</td>\n",
       "      <td>285171.0</td>\n",
       "    </tr>\n",
       "    <tr>\n",
       "      <th>4</th>\n",
       "      <td>semi</td>\n",
       "      <td>Galway</td>\n",
       "      <td>detached</td>\n",
       "      <td>335791.0</td>\n",
       "    </tr>\n",
       "    <tr>\n",
       "      <th>...</th>\n",
       "      <td>...</td>\n",
       "      <td>...</td>\n",
       "      <td>...</td>\n",
       "      <td>...</td>\n",
       "    </tr>\n",
       "    <tr>\n",
       "      <th>95</th>\n",
       "      <td>apartment</td>\n",
       "      <td>Galway</td>\n",
       "      <td>duplex</td>\n",
       "      <td>355282.0</td>\n",
       "    </tr>\n",
       "    <tr>\n",
       "      <th>96</th>\n",
       "      <td>detached</td>\n",
       "      <td>Galway</td>\n",
       "      <td>detached</td>\n",
       "      <td>255684.0</td>\n",
       "    </tr>\n",
       "    <tr>\n",
       "      <th>97</th>\n",
       "      <td>semi</td>\n",
       "      <td>Galway</td>\n",
       "      <td>detached</td>\n",
       "      <td>520705.0</td>\n",
       "    </tr>\n",
       "    <tr>\n",
       "      <th>98</th>\n",
       "      <td>semi</td>\n",
       "      <td>Galway</td>\n",
       "      <td>duplex</td>\n",
       "      <td>254110.0</td>\n",
       "    </tr>\n",
       "    <tr>\n",
       "      <th>99</th>\n",
       "      <td>semi</td>\n",
       "      <td>Galway</td>\n",
       "      <td>apartment</td>\n",
       "      <td>349716.0</td>\n",
       "    </tr>\n",
       "  </tbody>\n",
       "</table>\n",
       "<p>100 rows × 4 columns</p>\n",
       "</div>"
      ],
      "text/plain": [
       "   Property type Location   Bedrooms         0\n",
       "0           semi   Galway     duplex  481227.0\n",
       "1      apartment   Galway   detached  379057.0\n",
       "2      apartment   Galway     duplex  306557.0\n",
       "3           semi   Galway   detached  285171.0\n",
       "4           semi   Galway   detached  335791.0\n",
       "..           ...      ...        ...       ...\n",
       "95     apartment   Galway     duplex  355282.0\n",
       "96      detached   Galway   detached  255684.0\n",
       "97          semi   Galway   detached  520705.0\n",
       "98          semi   Galway     duplex  254110.0\n",
       "99          semi   Galway  apartment  349716.0\n",
       "\n",
       "[100 rows x 4 columns]"
      ]
     },
     "execution_count": 111,
     "metadata": {},
     "output_type": "execute_result"
    }
   ],
   "source": [
    "GalwayDF"
   ]
  },
  {
   "cell_type": "markdown",
   "metadata": {},
   "source": [
    "Giving a name \"Price\" to a newly added column"
   ]
  },
  {
   "cell_type": "code",
   "execution_count": 112,
   "metadata": {},
   "outputs": [
    {
     "data": {
      "text/html": [
       "<div>\n",
       "<style scoped>\n",
       "    .dataframe tbody tr th:only-of-type {\n",
       "        vertical-align: middle;\n",
       "    }\n",
       "\n",
       "    .dataframe tbody tr th {\n",
       "        vertical-align: top;\n",
       "    }\n",
       "\n",
       "    .dataframe thead th {\n",
       "        text-align: right;\n",
       "    }\n",
       "</style>\n",
       "<table border=\"1\" class=\"dataframe\">\n",
       "  <thead>\n",
       "    <tr style=\"text-align: right;\">\n",
       "      <th></th>\n",
       "      <th>Property type</th>\n",
       "      <th>Location</th>\n",
       "      <th>Bedrooms</th>\n",
       "      <th>Price</th>\n",
       "    </tr>\n",
       "  </thead>\n",
       "  <tbody>\n",
       "    <tr>\n",
       "      <th>0</th>\n",
       "      <td>semi</td>\n",
       "      <td>Galway</td>\n",
       "      <td>duplex</td>\n",
       "      <td>481227.0</td>\n",
       "    </tr>\n",
       "    <tr>\n",
       "      <th>1</th>\n",
       "      <td>apartment</td>\n",
       "      <td>Galway</td>\n",
       "      <td>detached</td>\n",
       "      <td>379057.0</td>\n",
       "    </tr>\n",
       "    <tr>\n",
       "      <th>2</th>\n",
       "      <td>apartment</td>\n",
       "      <td>Galway</td>\n",
       "      <td>duplex</td>\n",
       "      <td>306557.0</td>\n",
       "    </tr>\n",
       "    <tr>\n",
       "      <th>3</th>\n",
       "      <td>semi</td>\n",
       "      <td>Galway</td>\n",
       "      <td>detached</td>\n",
       "      <td>285171.0</td>\n",
       "    </tr>\n",
       "    <tr>\n",
       "      <th>4</th>\n",
       "      <td>semi</td>\n",
       "      <td>Galway</td>\n",
       "      <td>detached</td>\n",
       "      <td>335791.0</td>\n",
       "    </tr>\n",
       "    <tr>\n",
       "      <th>...</th>\n",
       "      <td>...</td>\n",
       "      <td>...</td>\n",
       "      <td>...</td>\n",
       "      <td>...</td>\n",
       "    </tr>\n",
       "    <tr>\n",
       "      <th>95</th>\n",
       "      <td>apartment</td>\n",
       "      <td>Galway</td>\n",
       "      <td>duplex</td>\n",
       "      <td>355282.0</td>\n",
       "    </tr>\n",
       "    <tr>\n",
       "      <th>96</th>\n",
       "      <td>detached</td>\n",
       "      <td>Galway</td>\n",
       "      <td>detached</td>\n",
       "      <td>255684.0</td>\n",
       "    </tr>\n",
       "    <tr>\n",
       "      <th>97</th>\n",
       "      <td>semi</td>\n",
       "      <td>Galway</td>\n",
       "      <td>detached</td>\n",
       "      <td>520705.0</td>\n",
       "    </tr>\n",
       "    <tr>\n",
       "      <th>98</th>\n",
       "      <td>semi</td>\n",
       "      <td>Galway</td>\n",
       "      <td>duplex</td>\n",
       "      <td>254110.0</td>\n",
       "    </tr>\n",
       "    <tr>\n",
       "      <th>99</th>\n",
       "      <td>semi</td>\n",
       "      <td>Galway</td>\n",
       "      <td>apartment</td>\n",
       "      <td>349716.0</td>\n",
       "    </tr>\n",
       "  </tbody>\n",
       "</table>\n",
       "<p>100 rows × 4 columns</p>\n",
       "</div>"
      ],
      "text/plain": [
       "   Property type Location   Bedrooms     Price\n",
       "0           semi   Galway     duplex  481227.0\n",
       "1      apartment   Galway   detached  379057.0\n",
       "2      apartment   Galway     duplex  306557.0\n",
       "3           semi   Galway   detached  285171.0\n",
       "4           semi   Galway   detached  335791.0\n",
       "..           ...      ...        ...       ...\n",
       "95     apartment   Galway     duplex  355282.0\n",
       "96      detached   Galway   detached  255684.0\n",
       "97          semi   Galway   detached  520705.0\n",
       "98          semi   Galway     duplex  254110.0\n",
       "99          semi   Galway  apartment  349716.0\n",
       "\n",
       "[100 rows x 4 columns]"
      ]
     },
     "execution_count": 112,
     "metadata": {},
     "output_type": "execute_result"
    }
   ],
   "source": [
    "GalwayDF.rename(columns={0: 'Price'})"
   ]
  },
  {
   "cell_type": "code",
   "execution_count": null,
   "metadata": {},
   "outputs": [],
   "source": []
  }
 ],
 "metadata": {
  "kernelspec": {
   "display_name": "Python 3",
   "language": "python",
   "name": "python3"
  },
  "language_info": {
   "codemirror_mode": {
    "name": "ipython",
    "version": 3
   },
   "file_extension": ".py",
   "mimetype": "text/x-python",
   "name": "python",
   "nbconvert_exporter": "python",
   "pygments_lexer": "ipython3",
   "version": "3.8.3"
  }
 },
 "nbformat": 4,
 "nbformat_minor": 4
}
