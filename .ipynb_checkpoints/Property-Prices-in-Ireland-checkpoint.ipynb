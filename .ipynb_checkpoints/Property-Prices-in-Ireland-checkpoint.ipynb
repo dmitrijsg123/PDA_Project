{
 "cells": [
  {
   "cell_type": "markdown",
   "metadata": {},
   "source": [
    "### Programming for Data Analysis - Project\n",
    "\n",
    "#### By Dmitrijs Gavilovskis\n",
    "\n",
    "Create a data set by simulating a real-world phenomenon of your choosing.\n",
    "\n",
    "#### Tasks:\n",
    "\n",
    "Choose a real-world phenomenon that can be measured and collect at least one-hundred data points across at least four different variables.\n",
    "\n",
    "Investigate the types of variables involved, their likely distributions, and their relationships with each other.\n",
    "\n",
    "Synthesise/simulate a data set as closely matching their properties as possible.\n",
    "\n",
    "Detail the research and implement the simulation in a Jupyter notebook.\n"
   ]
  },
  {
   "cell_type": "markdown",
   "metadata": {},
   "source": [
    "### 1. Chosen Real Life Phenomenon"
   ]
  },
  {
   "cell_type": "markdown",
   "metadata": {},
   "source": [
    "The data that we are going to analyze are <b>property prices in Ireland</b> as per week starting Monday November 23rd 2020.\n",
    "I have manually collected the following data from the website www.daft.ie - 100 random data points accross 4 cities containing 2 variables - <i>property type</i> and <i>number of bedrooms</i>. \n",
    "I would like to investigate the question so as to be able to simulate a dataset that would link <i>property type</i>, <i>number of bedrooms</i> and <i>location<i> and correlate these values to the <i>property price</i>.\n"
   ]
  },
  {
   "cell_type": "markdown",
   "metadata": {},
   "source": [
    "##### Location\n",
    "Data set contains data for 4 cities - Dublin, Limerick, Galway and Cork. As the cities vary in size, I have taken different amount of data for each city.\n",
    "\n",
    "City   &emsp;&emsp; &emsp;&emsp;        Population     &emsp;&emsp;        Data points  <br>\n",
    "Dublin        &emsp;&emsp; &emsp;&emsp; 1,024K&emsp;&emsp;  <br>\n",
    "Cork        &emsp;&emsp;  &emsp;&emsp;    190K  &emsp;&emsp; <br>\n",
    "Limerick      &emsp;&emsp; &emsp;&emsp;    90K   &emsp;&emsp;  <br>\n",
    "Galway       &emsp;&emsp;    &emsp;&emsp;  71K   &emsp;&emsp;  <br>\n",
    "\n",
    "\n",
    "Reference: \"Population of cities in Ireland\"    https://worldpopulationreview.com/countries/cities/ireland"
   ]
  },
  {
   "cell_type": "code",
   "execution_count": 11,
   "metadata": {},
   "outputs": [],
   "source": [
    "import numpy as np\n",
    "import pandas as pd\n",
    "import matplotlib.pyplot as plt\n",
    "import seaborn as sns\n",
    "%matplotlib inline"
   ]
  },
  {
   "cell_type": "code",
   "execution_count": 19,
   "metadata": {},
   "outputs": [],
   "source": [
    "df = pd.read_csv(\"Ireland_prices.csv\")"
   ]
  },
  {
   "cell_type": "code",
   "execution_count": 75,
   "metadata": {},
   "outputs": [
    {
     "data": {
      "text/html": [
       "<div>\n",
       "<style scoped>\n",
       "    .dataframe tbody tr th:only-of-type {\n",
       "        vertical-align: middle;\n",
       "    }\n",
       "\n",
       "    .dataframe tbody tr th {\n",
       "        vertical-align: top;\n",
       "    }\n",
       "\n",
       "    .dataframe thead th {\n",
       "        text-align: right;\n",
       "    }\n",
       "</style>\n",
       "<table border=\"1\" class=\"dataframe\">\n",
       "  <thead>\n",
       "    <tr style=\"text-align: right;\">\n",
       "      <th></th>\n",
       "      <th>Property type</th>\n",
       "      <th>Location</th>\n",
       "      <th>Bedrooms</th>\n",
       "    </tr>\n",
       "  </thead>\n",
       "  <tbody>\n",
       "    <tr>\n",
       "      <th>0</th>\n",
       "      <td>a</td>\n",
       "      <td>Limerick</td>\n",
       "      <td>2</td>\n",
       "    </tr>\n",
       "    <tr>\n",
       "      <th>1</th>\n",
       "      <td>d</td>\n",
       "      <td>Limerick</td>\n",
       "      <td>4</td>\n",
       "    </tr>\n",
       "    <tr>\n",
       "      <th>2</th>\n",
       "      <td>t</td>\n",
       "      <td>Limerick</td>\n",
       "      <td>4</td>\n",
       "    </tr>\n",
       "    <tr>\n",
       "      <th>3</th>\n",
       "      <td>d</td>\n",
       "      <td>Limerick</td>\n",
       "      <td>4</td>\n",
       "    </tr>\n",
       "    <tr>\n",
       "      <th>4</th>\n",
       "      <td>dp</td>\n",
       "      <td>Limerick</td>\n",
       "      <td>3</td>\n",
       "    </tr>\n",
       "    <tr>\n",
       "      <th>...</th>\n",
       "      <td>...</td>\n",
       "      <td>...</td>\n",
       "      <td>...</td>\n",
       "    </tr>\n",
       "    <tr>\n",
       "      <th>95</th>\n",
       "      <td>a</td>\n",
       "      <td>Cork</td>\n",
       "      <td>2</td>\n",
       "    </tr>\n",
       "    <tr>\n",
       "      <th>96</th>\n",
       "      <td>dp</td>\n",
       "      <td>Cork</td>\n",
       "      <td>3</td>\n",
       "    </tr>\n",
       "    <tr>\n",
       "      <th>97</th>\n",
       "      <td>a</td>\n",
       "      <td>Cork</td>\n",
       "      <td>2</td>\n",
       "    </tr>\n",
       "    <tr>\n",
       "      <th>98</th>\n",
       "      <td>sd</td>\n",
       "      <td>Cork</td>\n",
       "      <td>3</td>\n",
       "    </tr>\n",
       "    <tr>\n",
       "      <th>99</th>\n",
       "      <td>sd</td>\n",
       "      <td>Cork</td>\n",
       "      <td>3</td>\n",
       "    </tr>\n",
       "  </tbody>\n",
       "</table>\n",
       "<p>100 rows × 3 columns</p>\n",
       "</div>"
      ],
      "text/plain": [
       "   Property type  Location  Bedrooms\n",
       "0              a  Limerick         2\n",
       "1              d  Limerick         4\n",
       "2              t  Limerick         4\n",
       "3              d  Limerick         4\n",
       "4             dp  Limerick         3\n",
       "..           ...       ...       ...\n",
       "95             a      Cork         2\n",
       "96            dp      Cork         3\n",
       "97             a      Cork         2\n",
       "98            sd      Cork         3\n",
       "99            sd      Cork         3\n",
       "\n",
       "[100 rows x 3 columns]"
      ]
     },
     "execution_count": 75,
     "metadata": {},
     "output_type": "execute_result"
    }
   ],
   "source": [
    "df"
   ]
  },
  {
   "cell_type": "markdown",
   "metadata": {},
   "source": [
    "##### Let us make our data framer easier to understand"
   ]
  },
  {
   "cell_type": "code",
   "execution_count": 76,
   "metadata": {},
   "outputs": [],
   "source": [
    "df_new = df.replace({\"a\":\"apartment\",\"d\":\"detached\",\"t\":\"terraced\",\"dp\":\"duplex\",\"sd\":\"semi\",\"tn\":\"townhouse\"})"
   ]
  },
  {
   "cell_type": "code",
   "execution_count": 89,
   "metadata": {},
   "outputs": [
    {
     "data": {
      "text/html": [
       "<div>\n",
       "<style scoped>\n",
       "    .dataframe tbody tr th:only-of-type {\n",
       "        vertical-align: middle;\n",
       "    }\n",
       "\n",
       "    .dataframe tbody tr th {\n",
       "        vertical-align: top;\n",
       "    }\n",
       "\n",
       "    .dataframe thead th {\n",
       "        text-align: right;\n",
       "    }\n",
       "</style>\n",
       "<table border=\"1\" class=\"dataframe\">\n",
       "  <thead>\n",
       "    <tr style=\"text-align: right;\">\n",
       "      <th></th>\n",
       "      <th>Property type</th>\n",
       "      <th>Location</th>\n",
       "      <th>Bedrooms</th>\n",
       "    </tr>\n",
       "  </thead>\n",
       "  <tbody>\n",
       "    <tr>\n",
       "      <th>0</th>\n",
       "      <td>apartment</td>\n",
       "      <td>Limerick</td>\n",
       "      <td>2</td>\n",
       "    </tr>\n",
       "    <tr>\n",
       "      <th>1</th>\n",
       "      <td>detached</td>\n",
       "      <td>Limerick</td>\n",
       "      <td>4</td>\n",
       "    </tr>\n",
       "    <tr>\n",
       "      <th>2</th>\n",
       "      <td>terraced</td>\n",
       "      <td>Limerick</td>\n",
       "      <td>4</td>\n",
       "    </tr>\n",
       "    <tr>\n",
       "      <th>3</th>\n",
       "      <td>detached</td>\n",
       "      <td>Limerick</td>\n",
       "      <td>4</td>\n",
       "    </tr>\n",
       "    <tr>\n",
       "      <th>4</th>\n",
       "      <td>duplex</td>\n",
       "      <td>Limerick</td>\n",
       "      <td>3</td>\n",
       "    </tr>\n",
       "    <tr>\n",
       "      <th>...</th>\n",
       "      <td>...</td>\n",
       "      <td>...</td>\n",
       "      <td>...</td>\n",
       "    </tr>\n",
       "    <tr>\n",
       "      <th>95</th>\n",
       "      <td>apartment</td>\n",
       "      <td>Cork</td>\n",
       "      <td>2</td>\n",
       "    </tr>\n",
       "    <tr>\n",
       "      <th>96</th>\n",
       "      <td>duplex</td>\n",
       "      <td>Cork</td>\n",
       "      <td>3</td>\n",
       "    </tr>\n",
       "    <tr>\n",
       "      <th>97</th>\n",
       "      <td>apartment</td>\n",
       "      <td>Cork</td>\n",
       "      <td>2</td>\n",
       "    </tr>\n",
       "    <tr>\n",
       "      <th>98</th>\n",
       "      <td>semi</td>\n",
       "      <td>Cork</td>\n",
       "      <td>3</td>\n",
       "    </tr>\n",
       "    <tr>\n",
       "      <th>99</th>\n",
       "      <td>semi</td>\n",
       "      <td>Cork</td>\n",
       "      <td>3</td>\n",
       "    </tr>\n",
       "  </tbody>\n",
       "</table>\n",
       "<p>100 rows × 3 columns</p>\n",
       "</div>"
      ],
      "text/plain": [
       "   Property type  Location  Bedrooms\n",
       "0      apartment  Limerick         2\n",
       "1       detached  Limerick         4\n",
       "2       terraced  Limerick         4\n",
       "3       detached  Limerick         4\n",
       "4         duplex  Limerick         3\n",
       "..           ...       ...       ...\n",
       "95     apartment      Cork         2\n",
       "96        duplex      Cork         3\n",
       "97     apartment      Cork         2\n",
       "98          semi      Cork         3\n",
       "99          semi      Cork         3\n",
       "\n",
       "[100 rows x 3 columns]"
      ]
     },
     "execution_count": 89,
     "metadata": {},
     "output_type": "execute_result"
    }
   ],
   "source": [
    "df_new"
   ]
  },
  {
   "cell_type": "markdown",
   "metadata": {},
   "source": [
    "##### Distribution of number of bedrooms"
   ]
  },
  {
   "cell_type": "code",
   "execution_count": 90,
   "metadata": {},
   "outputs": [
    {
     "data": {
      "image/png": "[encoded data removed]",
      "text/plain": [
       "<Figure size 360x360 with 1 Axes>"
      ]
     },
     "metadata": {
      "needs_background": "light"
     },
     "output_type": "display_data"
    }
   ],
   "source": [
    "sns.catplot(x=\"Bedrooms\", kind=\"count\", palette=\"ch:.25\", data=df_new);\n",
    "\n",
    "# Reference: https://seaborn.pydata.org/tutorial/categorical.html"
   ]
  },
  {
   "cell_type": "markdown",
   "metadata": {},
   "source": [
    "##### Distribution Property type"
   ]
  },
  {
   "cell_type": "code",
   "execution_count": 94,
   "metadata": {},
   "outputs": [
    {
     "data": {
      "image/png": "[encoded data removed]",
      "text/plain": [
       "<Figure size 360x360 with 1 Axes>"
      ]
     },
     "metadata": {
      "needs_background": "light"
     },
     "output_type": "display_data"
    }
   ],
   "source": [
    "sns.catplot(x=\"Property type\", kind=\"count\", palette=\"ch:.25\", data=df_new);"
   ]
  },
  {
   "cell_type": "markdown",
   "metadata": {},
   "source": [
    "##### Distribution Location"
   ]
  },
  {
   "cell_type": "code",
   "execution_count": 95,
   "metadata": {},
   "outputs": [
    {
     "data": {
      "image/png": "[encoded data removed]",
      "text/plain": [
       "<Figure size 360x360 with 1 Axes>"
      ]
     },
     "metadata": {
      "needs_background": "light"
     },
     "output_type": "display_data"
    }
   ],
   "source": [
    "sns.catplot(x=\"Location\", kind=\"count\", palette=\"ch:.25\", data=df_new);"
   ]
  },
  {
   "cell_type": "code",
   "execution_count": null,
   "metadata": {},
   "outputs": [],
   "source": []
  },
  {
   "cell_type": "markdown",
   "metadata": {},
   "source": [
    "Let us look at data for each city separately\n",
    "##### Limerick data"
   ]
  },
  {
   "cell_type": "code",
   "execution_count": 176,
   "metadata": {},
   "outputs": [],
   "source": [
    "Limk = df_new.loc[(df_new['Location'] == \"Limerick\")] "
   ]
  },
  {
   "cell_type": "code",
   "execution_count": 177,
   "metadata": {},
   "outputs": [
    {
     "data": {
      "text/html": [
       "<div>\n",
       "<style scoped>\n",
       "    .dataframe tbody tr th:only-of-type {\n",
       "        vertical-align: middle;\n",
       "    }\n",
       "\n",
       "    .dataframe tbody tr th {\n",
       "        vertical-align: top;\n",
       "    }\n",
       "\n",
       "    .dataframe thead th {\n",
       "        text-align: right;\n",
       "    }\n",
       "</style>\n",
       "<table border=\"1\" class=\"dataframe\">\n",
       "  <thead>\n",
       "    <tr style=\"text-align: right;\">\n",
       "      <th></th>\n",
       "      <th>Property type</th>\n",
       "      <th>Location</th>\n",
       "      <th>Bedrooms</th>\n",
       "    </tr>\n",
       "  </thead>\n",
       "  <tbody>\n",
       "    <tr>\n",
       "      <th>0</th>\n",
       "      <td>apartment</td>\n",
       "      <td>Limerick</td>\n",
       "      <td>2</td>\n",
       "    </tr>\n",
       "    <tr>\n",
       "      <th>1</th>\n",
       "      <td>detached</td>\n",
       "      <td>Limerick</td>\n",
       "      <td>4</td>\n",
       "    </tr>\n",
       "    <tr>\n",
       "      <th>2</th>\n",
       "      <td>terraced</td>\n",
       "      <td>Limerick</td>\n",
       "      <td>4</td>\n",
       "    </tr>\n",
       "    <tr>\n",
       "      <th>3</th>\n",
       "      <td>detached</td>\n",
       "      <td>Limerick</td>\n",
       "      <td>4</td>\n",
       "    </tr>\n",
       "    <tr>\n",
       "      <th>4</th>\n",
       "      <td>duplex</td>\n",
       "      <td>Limerick</td>\n",
       "      <td>3</td>\n",
       "    </tr>\n",
       "    <tr>\n",
       "      <th>5</th>\n",
       "      <td>terraced</td>\n",
       "      <td>Limerick</td>\n",
       "      <td>3</td>\n",
       "    </tr>\n",
       "    <tr>\n",
       "      <th>6</th>\n",
       "      <td>detached</td>\n",
       "      <td>Limerick</td>\n",
       "      <td>3</td>\n",
       "    </tr>\n",
       "    <tr>\n",
       "      <th>7</th>\n",
       "      <td>detached</td>\n",
       "      <td>Limerick</td>\n",
       "      <td>4</td>\n",
       "    </tr>\n",
       "    <tr>\n",
       "      <th>8</th>\n",
       "      <td>apartment</td>\n",
       "      <td>Limerick</td>\n",
       "      <td>2</td>\n",
       "    </tr>\n",
       "    <tr>\n",
       "      <th>9</th>\n",
       "      <td>apartment</td>\n",
       "      <td>Limerick</td>\n",
       "      <td>2</td>\n",
       "    </tr>\n",
       "    <tr>\n",
       "      <th>10</th>\n",
       "      <td>apartment</td>\n",
       "      <td>Limerick</td>\n",
       "      <td>3</td>\n",
       "    </tr>\n",
       "    <tr>\n",
       "      <th>11</th>\n",
       "      <td>detached</td>\n",
       "      <td>Limerick</td>\n",
       "      <td>3</td>\n",
       "    </tr>\n",
       "    <tr>\n",
       "      <th>12</th>\n",
       "      <td>semi</td>\n",
       "      <td>Limerick</td>\n",
       "      <td>3</td>\n",
       "    </tr>\n",
       "    <tr>\n",
       "      <th>13</th>\n",
       "      <td>semi</td>\n",
       "      <td>Limerick</td>\n",
       "      <td>4</td>\n",
       "    </tr>\n",
       "    <tr>\n",
       "      <th>14</th>\n",
       "      <td>semi</td>\n",
       "      <td>Limerick</td>\n",
       "      <td>4</td>\n",
       "    </tr>\n",
       "    <tr>\n",
       "      <th>15</th>\n",
       "      <td>semi</td>\n",
       "      <td>Limerick</td>\n",
       "      <td>4</td>\n",
       "    </tr>\n",
       "  </tbody>\n",
       "</table>\n",
       "</div>"
      ],
      "text/plain": [
       "   Property type  Location  Bedrooms\n",
       "0      apartment  Limerick         2\n",
       "1       detached  Limerick         4\n",
       "2       terraced  Limerick         4\n",
       "3       detached  Limerick         4\n",
       "4         duplex  Limerick         3\n",
       "5       terraced  Limerick         3\n",
       "6       detached  Limerick         3\n",
       "7       detached  Limerick         4\n",
       "8      apartment  Limerick         2\n",
       "9      apartment  Limerick         2\n",
       "10     apartment  Limerick         3\n",
       "11      detached  Limerick         3\n",
       "12          semi  Limerick         3\n",
       "13          semi  Limerick         4\n",
       "14          semi  Limerick         4\n",
       "15          semi  Limerick         4"
      ]
     },
     "execution_count": 177,
     "metadata": {},
     "output_type": "execute_result"
    }
   ],
   "source": [
    "Limk"
   ]
  },
  {
   "cell_type": "code",
   "execution_count": 178,
   "metadata": {},
   "outputs": [
    {
     "data": {
      "text/plain": [
       "count    16.0\n",
       "mean      3.0\n",
       "std       1.0\n",
       "min       2.0\n",
       "25%       3.0\n",
       "50%       3.0\n",
       "75%       4.0\n",
       "max       4.0\n",
       "Name: Bedrooms, dtype: float64"
      ]
     },
     "execution_count": 178,
     "metadata": {},
     "output_type": "execute_result"
    }
   ],
   "source": [
    "# Applying descriptive stats to look into the data in more details\n",
    "Limk[\"Bedrooms\"].describe().round(0)"
   ]
  },
  {
   "cell_type": "markdown",
   "metadata": {},
   "source": [
    "Let us draw 100 samples from a triangular distribution.\n",
    "The triangular distribution is a continuous probability distribution with lower limit left, peak at mode, and upper limit right. We will enter the lower limit as 1 bedroom, peak at mean = 3 and upper limit at 4."
   ]
  },
  {
   "cell_type": "code",
   "execution_count": 179,
   "metadata": {},
   "outputs": [],
   "source": [
    "np.random.seed(3465) # Using seed option so that the numbers are the same \n",
    "\n",
    "limkbedrooms = np.random.triangular(1,3,4,100).round(0)\n",
    "\n",
    "# Reference: https://numpy.org/doc/stable/reference/random/generated/numpy.random.triangular.html"
   ]
  },
  {
   "cell_type": "code",
   "execution_count": 180,
   "metadata": {},
   "outputs": [
    {
     "data": {
      "text/plain": [
       "array([3., 3., 3., 2., 4., 3., 3., 2., 2., 2., 2., 3., 2., 2., 2., 2., 3.,\n",
       "       3., 3., 3., 2., 2., 2., 2., 2., 3., 1., 3., 2., 3., 4., 3., 2., 3.,\n",
       "       2., 2., 3., 3., 2., 2., 3., 3., 3., 4., 2., 2., 3., 3., 1., 3., 2.,\n",
       "       3., 2., 3., 2., 2., 3., 2., 3., 3., 2., 3., 2., 3., 2., 3., 3., 1.,\n",
       "       2., 3., 3., 3., 3., 2., 3., 4., 3., 1., 3., 2., 3., 3., 3., 2., 3.,\n",
       "       2., 2., 2., 3., 2., 2., 3., 2., 3., 3., 1., 3., 3., 3., 4.])"
      ]
     },
     "execution_count": 180,
     "metadata": {},
     "output_type": "execute_result"
    }
   ],
   "source": [
    "limkbedrooms"
   ]
  },
  {
   "cell_type": "code",
   "execution_count": 181,
   "metadata": {},
   "outputs": [
    {
     "data": {
      "image/png": "[encoded data removed]",
      "text/plain": [
       "<Figure size 432x288 with 1 Axes>"
      ]
     },
     "metadata": {
      "needs_background": "light"
     },
     "output_type": "display_data"
    }
   ],
   "source": [
    "# Plotting a histogram\n",
    "plt.hist(limkbedrooms);"
   ]
  },
  {
   "cell_type": "code",
   "execution_count": 191,
   "metadata": {},
   "outputs": [],
   "source": [
    "rating_probs = Limk.groupby('Property type').size().div(len(Limk)).round(2)\n",
    "\n",
    "# Reference: https://stackoverflow.com/questions/37818063/how-to-calculate-conditional-probability-of-values-in-dataframe-pandas-python"
   ]
  },
  {
   "cell_type": "code",
   "execution_count": 199,
   "metadata": {},
   "outputs": [
    {
     "data": {
      "text/plain": [
       "Property type\n",
       "apartment    0.25\n",
       "detached     0.31\n",
       "duplex       0.06\n",
       "semi         0.25\n",
       "terraced     0.12\n",
       "dtype: float64"
      ]
     },
     "execution_count": 199,
     "metadata": {},
     "output_type": "execute_result"
    }
   ],
   "source": [
    "rating_probs"
   ]
  },
  {
   "cell_type": "code",
   "execution_count": 200,
   "metadata": {},
   "outputs": [
    {
     "data": {
      "text/plain": [
       "array(['semi', 'apartment', 'detached', 'detached', 'apartment', 'semi',\n",
       "       'detached', 'apartment', 'detached', 'detached', 'semi', 'semi',\n",
       "       'detached', 'apartment', 'apartment', 'semi', 'detached',\n",
       "       'detached', 'detached', 'semi', 'apartment', 'apartment', 'semi',\n",
       "       'semi', 'apartment', 'semi', 'apartment', 'apartment', 'duplex',\n",
       "       'detached', 'apartment', 'apartment', 'detached', 'detached',\n",
       "       'detached', 'duplex', 'detached', 'apartment', 'detached',\n",
       "       'detached', 'apartment', 'detached', 'detached', 'detached',\n",
       "       'detached', 'terraced', 'terraced', 'terraced', 'detached',\n",
       "       'apartment', 'detached', 'semi', 'apartment', 'terraced', 'duplex',\n",
       "       'detached', 'semi', 'apartment', 'semi', 'detached', 'apartment',\n",
       "       'semi', 'duplex', 'semi', 'detached', 'apartment', 'semi',\n",
       "       'terraced', 'duplex', 'semi', 'duplex', 'semi', 'terraced',\n",
       "       'detached', 'semi', 'semi', 'detached', 'detached', 'semi', 'semi',\n",
       "       'terraced', 'semi', 'duplex', 'semi', 'detached', 'detached',\n",
       "       'apartment', 'terraced', 'apartment', 'apartment', 'terraced',\n",
       "       'semi', 'apartment', 'apartment', 'semi', 'duplex', 'semi',\n",
       "       'detached', 'detached', 'detached'], dtype='<U9')"
      ]
     },
     "execution_count": 200,
     "metadata": {},
     "output_type": "execute_result"
    }
   ],
   "source": [
    "Property_type = ['apartment', 'detached', 'duplex', 'semi','terraced']\n",
    "np.random.choice(Property_type, 100, p=[0.25, 0.32, 0.06, 0.25,0.12])\n",
    "\n",
    "# Reference: https://stackoverflow.com/questions/57435469/how-to-generate-random-categorical-data-in-python-according-to-a-probability-dis\n",
    "# https://docs.scipy.org/doc/numpy-1.15.0/reference/generated/numpy.random.choice.html#numpy.random.choice"
   ]
  },
  {
   "cell_type": "code",
   "execution_count": null,
   "metadata": {},
   "outputs": [],
   "source": []
  },
  {
   "cell_type": "code",
   "execution_count": null,
   "metadata": {},
   "outputs": [],
   "source": []
  }
 ],
 "metadata": {
  "kernelspec": {
   "display_name": "Python 3",
   "language": "python",
   "name": "python3"
  },
  "language_info": {
   "codemirror_mode": {
    "name": "ipython",
    "version": 3
   },
   "file_extension": ".py",
   "mimetype": "text/x-python",
   "name": "python",
   "nbconvert_exporter": "python",
   "pygments_lexer": "ipython3",
   "version": "3.8.3"
  }
 },
 "nbformat": 4,
 "nbformat_minor": 4
}
