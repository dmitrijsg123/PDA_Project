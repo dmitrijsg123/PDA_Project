{
 "cells": [
  {
   "cell_type": "markdown",
   "metadata": {},
   "source": [
    "### Programming for Data Analysis - Project\n",
    "\n",
    "#### By Dmitrijs Gavilovskis\n",
    "\n",
    "Create a data set by simulating a real-world phenomenon of your choosing.\n",
    "\n",
    "#### Tasks:\n",
    "\n",
    "Choose a real-world phenomenon that can be measured and collect at least one-hundred data points across at least four different variables.\n",
    "\n",
    "Investigate the types of variables involved, their likely distributions, and their relationships with each other.\n",
    "\n",
    "Synthesise/simulate a data set as closely matching their properties as possible.\n",
    "\n",
    "Detail the research and implement the simulation in a Jupyter notebook.\n"
   ]
  },
  {
   "cell_type": "markdown",
   "metadata": {},
   "source": [
    "### 1. Chosen Real Life Phenomenon"
   ]
  },
  {
   "cell_type": "markdown",
   "metadata": {},
   "source": [
    "The data that we are going to analyze are <b>property prices in Ireland</b> as per week starting Monday November 23rd 2020.\n",
    "I have manually collected the following data from the website www.daft.ie - 100 random data points accross 4 cities containing 2 variables - <i>property type</i> and <i>number of bedrooms</i>. \n",
    "I would like to investigate the question so as to be able to simulate a dataset that would link <i>property type</i>, <i>number of bedrooms</i> and <i>location<i> and correlate these values to the <i>property price</i>.\n"
   ]
  },
  {
   "cell_type": "markdown",
   "metadata": {},
   "source": [
    "##### Location\n",
    "Data set contains data for 4 cities - Dublin, Limerick, Galway and Cork. As the cities vary in size, I have taken different amount of data for each city.\n",
    "\n",
    "City   &emsp;&emsp; &emsp;&emsp;        Population     &emsp;&emsp;        Data points  <br>\n",
    "Dublin        &emsp;&emsp; &emsp;&emsp; 1,024K&emsp;&emsp;  <br>\n",
    "Cork        &emsp;&emsp;  &emsp;&emsp;    190K  &emsp;&emsp; <br>\n",
    "Limerick      &emsp;&emsp; &emsp;&emsp;    90K   &emsp;&emsp;  <br>\n",
    "Galway       &emsp;&emsp;    &emsp;&emsp;  71K   &emsp;&emsp;  <br>\n",
    "\n",
    "\n",
    "Reference: \"Population of cities in Ireland\"    https://worldpopulationreview.com/countries/cities/ireland"
   ]
  },
  {
   "cell_type": "code",
   "execution_count": 7,
   "metadata": {},
   "outputs": [],
   "source": [
    "import numpy as np\n",
    "import pandas as pd\n",
    "import matplotlib.pyplot as plt\n",
    "import seaborn as sns\n",
    "%matplotlib inline"
   ]
  },
  {
   "cell_type": "code",
   "execution_count": 8,
   "metadata": {},
   "outputs": [],
   "source": [
    "# create a DataFrame by importing our csv file \n",
    "df = pd.read_csv(\"Ireland_prices.csv\")"
   ]
  },
  {
   "cell_type": "raw",
   "metadata": {},
   "source": [
    "df"
   ]
  },
  {
   "cell_type": "code",
   "execution_count": null,
   "metadata": {},
   "outputs": [],
   "source": []
  },
  {
   "cell_type": "code",
   "execution_count": null,
   "metadata": {},
   "outputs": [],
   "source": []
  }
 ],
 "metadata": {
  "kernelspec": {
   "display_name": "Python 3",
   "language": "python",
   "name": "python3"
  },
  "language_info": {
   "codemirror_mode": {
    "name": "ipython",
    "version": 3
   },
   "file_extension": ".py",
   "mimetype": "text/x-python",
   "name": "python",
   "nbconvert_exporter": "python",
   "pygments_lexer": "ipython3",
   "version": "3.8.3"
  }
 },
 "nbformat": 4,
 "nbformat_minor": 4
}
